{
 "cells": [
  {
   "cell_type": "code",
   "execution_count": 1,
   "metadata": {},
   "outputs": [],
   "source": [
    "import pandas as pd\n",
    "import nltk\n",
    "import numpy as np\n",
    "import matplotlib.pyplot as plt\n",
    "import sklearn\n",
    "from sklearn.feature_extraction.text import TfidfVectorizer\n",
    "import string\n",
    "#patch_sklearn(verbose=False)\n",
    "from typing import List\n",
    "import math\n",
    "from sklearn.model_selection import train_test_split\n",
    "from sklearn.pipeline import Pipeline\n",
    "from sklearn.model_selection import KFold, GridSearchCV\n",
    "from sklearn.linear_model import LogisticRegression\n",
    "from sklearn.metrics import accuracy_score\n",
    "import pickle\n",
    "import contractions\n",
    "from gensim.models import Word2Vec\n",
    "from nltk.stem.snowball import SnowballStemmer \n",
    "import joblib\n",
    "from sklearn.neighbors import KNeighborsClassifier\n",
    "from sklearn.metrics import confusion_matrix"
   ]
  },
  {
   "cell_type": "code",
   "execution_count": 3,
   "metadata": {},
   "outputs": [
    {
     "data": {
      "text/plain": [
       "True"
      ]
     },
     "execution_count": 3,
     "metadata": {},
     "output_type": "execute_result"
    }
   ],
   "source": [
    "nltk.download('popular', quiet=True)\n",
    "nltk.download('universal_tagset', quiet=True)"
   ]
  },
  {
   "attachments": {},
   "cell_type": "markdown",
   "metadata": {},
   "source": [
    "# Logistic Regression"
   ]
  },
  {
   "attachments": {},
   "cell_type": "markdown",
   "metadata": {},
   "source": [
    "In Natural Language Processing (NLP) the logistic regression is considered as a baseline model, which is used to compare to other models. It is an important tool, with well developed theoretical properties, which is why it has been chosen as one of the first models to be implemented in this task. Here the multinomial logistic regression is used, since there are more than 2 classes (also called a 'soft-max' regression). Each observation is labelled as a class $k$ from a set of $K$ total classes. The assumption is that only one of these classes is correct, that is, any given observation can only belong to one class <a href=\"#ref\">(Jurasky et al)</a>."
   ]
  },
  {
   "attachments": {},
   "cell_type": "markdown",
   "metadata": {},
   "source": [
    "## 0. Downloading the Data"
   ]
  },
  {
   "cell_type": "code",
   "execution_count": 4,
   "metadata": {},
   "outputs": [],
   "source": [
    "df_train = pd.read_csv(\"ATML2023_reviews_train.csv\")\n",
    "df_test = pd.read_csv(\"ATML2023_reviews_test.csv\")"
   ]
  },
  {
   "cell_type": "code",
   "execution_count": 5,
   "metadata": {},
   "outputs": [
    {
     "name": "stdout",
     "output_type": "stream",
     "text": [
      "Train: (164000, 8)\n",
      "Test: (41000, 7)\n"
     ]
    }
   ],
   "source": [
    "print(f\"Train: {df_train.shape}\")\n",
    "print(f\"Test: {df_test.shape}\")"
   ]
  },
  {
   "attachments": {},
   "cell_type": "markdown",
   "metadata": {},
   "source": [
    "There are a total of 164000 rows and 8 columns in the train set . There are a total of 41000 rows and 7 columns (excluding the response) in the test set."
   ]
  },
  {
   "attachments": {},
   "cell_type": "markdown",
   "metadata": {},
   "source": [
    "## 1. Data Preprocessing"
   ]
  },
  {
   "attachments": {},
   "cell_type": "markdown",
   "metadata": {},
   "source": [
    "The `'review_title'` and `'review_body'` are combined together. The model performs better when the two columns are combined."
   ]
  },
  {
   "cell_type": "code",
   "execution_count": 6,
   "metadata": {},
   "outputs": [],
   "source": [
    "df_train['review_body'] = df_train['review_title'] + ' ' + df_train['review_body']\n",
    "df_test['review_body'] = df_test['review_title'] + ' ' + df_test['review_body']"
   ]
  },
  {
   "attachments": {},
   "cell_type": "markdown",
   "metadata": {},
   "source": [
    "NA's and duplicates are dropped and the index is reset in the train set."
   ]
  },
  {
   "cell_type": "code",
   "execution_count": 7,
   "metadata": {},
   "outputs": [],
   "source": [
    "df_train = df_train.dropna().drop_duplicates().reset_index(drop=True)"
   ]
  },
  {
   "attachments": {},
   "cell_type": "markdown",
   "metadata": {},
   "source": [
    "Capital letters are lowered in both data sets."
   ]
  },
  {
   "cell_type": "code",
   "execution_count": 8,
   "metadata": {},
   "outputs": [],
   "source": [
    "df_train['review_body'] = df_train['review_body'].apply(lambda x: x.lower())\n",
    "df_test['review_body'] = df_test['review_body'].apply(lambda x: x.lower() if isinstance(x, str) else x)"
   ]
  },
  {
   "cell_type": "code",
   "execution_count": 9,
   "metadata": {},
   "outputs": [
    {
     "name": "stdout",
     "output_type": "stream",
     "text": [
      "Train: (163975, 8)\n",
      "Test: (41000, 7)\n"
     ]
    }
   ],
   "source": [
    "print(f\"Train: {df_train.shape}\")\n",
    "print(f\"Test: {df_test.shape}\")"
   ]
  },
  {
   "attachments": {},
   "cell_type": "markdown",
   "metadata": {},
   "source": [
    "The resulting shapes are 163975 rows and 8 columns in the train set and a total of 41000 rows and 7 columns (excluding the response) in the test set. "
   ]
  },
  {
   "attachments": {},
   "cell_type": "markdown",
   "metadata": {},
   "source": [
    "## 3. Getting text data"
   ]
  },
  {
   "attachments": {},
   "cell_type": "markdown",
   "metadata": {},
   "source": [
    "Rearranging the data for training."
   ]
  },
  {
   "cell_type": "code",
   "execution_count": 10,
   "metadata": {},
   "outputs": [],
   "source": [
    "text_data = df_train[['review_body', 'rating']]\n",
    "text_data_test=df_test['review_body'] "
   ]
  },
  {
   "attachments": {},
   "cell_type": "markdown",
   "metadata": {},
   "source": [
    "##  4. Splitting the data\n"
   ]
  },
  {
   "attachments": {},
   "cell_type": "markdown",
   "metadata": {},
   "source": [
    "The training data set is split into test and training sets, to be able to evaluate the model before submitting predictions into Kaggle."
   ]
  },
  {
   "cell_type": "code",
   "execution_count": 11,
   "metadata": {},
   "outputs": [
    {
     "name": "stdout",
     "output_type": "stream",
     "text": [
      "Train X set shape: (131180,)\n",
      "Test X set shape: (32795,)\n",
      "Train Y set shape: (131180,)\n",
      "Test Y set shape: (32795,)\n"
     ]
    }
   ],
   "source": [
    "# Split the data into train and test sets\n",
    "X_train,X_test,Y_train, Y_test = train_test_split(text_data['review_body'], text_data['rating'],test_size=0.2, random_state=977,shuffle=True)\n",
    "\n",
    "# Print the shapes of the train and test sets\n",
    "print(\"Train X set shape:\", X_train.shape)\n",
    "print(\"Test X set shape:\", X_test.shape)\n",
    "print(\"Train Y set shape:\", Y_train.shape)\n",
    "print(\"Test Y set shape:\", Y_test.shape)"
   ]
  },
  {
   "attachments": {},
   "cell_type": "markdown",
   "metadata": {},
   "source": [
    "All data sets are converted to numpy."
   ]
  },
  {
   "cell_type": "code",
   "execution_count": 12,
   "metadata": {},
   "outputs": [],
   "source": [
    "X_train = X_train.to_numpy()\n",
    "X_test = X_test.to_numpy()\n",
    "text_data_test=text_data_test.to_numpy()"
   ]
  },
  {
   "attachments": {},
   "cell_type": "markdown",
   "metadata": {},
   "source": [
    "All responses are converted to integers."
   ]
  },
  {
   "cell_type": "code",
   "execution_count": 13,
   "metadata": {},
   "outputs": [],
   "source": [
    "Y_train= (np.array([int(label) for label in Y_train])).astype(int)\n",
    "Y_test= (np.array([int(label) for label in Y_test])).astype(int)"
   ]
  },
  {
   "attachments": {},
   "cell_type": "markdown",
   "metadata": {},
   "source": [
    "## 5. Natural Language Processing: Text Normalization"
   ]
  },
  {
   "attachments": {},
   "cell_type": "markdown",
   "metadata": {},
   "source": [
    "Lemmatization is a crucial part of text normalization. The task is to determine whether two words have the same roots, given their apparent differences. For example, the words \"sang\", \"sings\", \"sung\" are all forms of the verb \"sing\" <a href=\"#ref\">(Jurasky et al.)</a>. The NLTK `WordNetLemmatizer` has been used, which is normally implemented with Position-of-Speech (POS) tags. The lemmatizer has been implemnted within a custom tokenizer function. Stopwords and punctuations have also been removed."
   ]
  },
  {
   "cell_type": "code",
   "execution_count": 14,
   "metadata": {},
   "outputs": [],
   "source": [
    "wnl = nltk.stem.WordNetLemmatizer()"
   ]
  },
  {
   "cell_type": "code",
   "execution_count": 15,
   "metadata": {},
   "outputs": [],
   "source": [
    "# Write your custom tokenizer method here:\n",
    "stopwords = nltk.corpus.stopwords.words(\"english\")\n",
    "punctuation=string.punctuation\n",
    "\n",
    "def custom_tokenizer(text: str):\n",
    "    if isinstance(text, float) and math.isnan(text):\n",
    "        return []\n",
    "    text_tokens = nltk.word_tokenize(text)\n",
    "    output = []\n",
    "    for w, pos in nltk.pos_tag(text_tokens, tagset=\"universal\"):\n",
    "        if pos in [\"VERB\"]:\n",
    "            pos = \"v\"\n",
    "        elif pos in [\"ADJ\"]:\n",
    "            pos = \"a\"\n",
    "        elif pos in [\"ADV\"]:\n",
    "            pos = \"r\"\n",
    "        elif pos in [\"NOUN\"]:\n",
    "            pos = \"n\"\n",
    "        else:\n",
    "            pos = \"n\"\n",
    "\n",
    "        # Lemmatized form accounting for POS-tag\n",
    "        l = wnl.lemmatize(w, pos=pos)\n",
    "\n",
    "        # Filter out stopwords\n",
    "        if l not in stopwords and punctuation:\n",
    "            output.append(l)\n",
    "    return output"
   ]
  },
  {
   "attachments": {},
   "cell_type": "markdown",
   "metadata": {},
   "source": [
    "## 6.Word embedding"
   ]
  },
  {
   "attachments": {},
   "cell_type": "markdown",
   "metadata": {},
   "source": [
    "Embeddings are short dense vectors representing words and their semantics. These vectors are short compared to a large corpus vocabulary.  <a href=\"#ref\">(Jurasky et al.)</a>"
   ]
  },
  {
   "attachments": {},
   "cell_type": "markdown",
   "metadata": {},
   "source": [
    " ### Bag-of-words (BOW) with Term-frequency Inverse-document-frequency (TF-IDF)\n"
   ]
  },
  {
   "attachments": {},
   "cell_type": "markdown",
   "metadata": {},
   "source": [
    "The intuition behind the BOW is litterarily placing words into a conceptual bag in an unorderly fashion. Interest lies in each word's frequency in the document. In TFIDF the frequency of nearby words is incorporated into a function which defines the word meanings. TFIDF results in long vectors with many zeros. <a href=\"#ref\">(Jurasky et al.)</a>"
   ]
  },
  {
   "cell_type": "code",
   "execution_count": 15,
   "metadata": {},
   "outputs": [
    {
     "name": "stderr",
     "output_type": "stream",
     "text": [
      "/Users/user/miniconda3/envs/tensorflow/lib/python3.10/site-packages/sklearn/feature_extraction/text.py:528: UserWarning: The parameter 'token_pattern' will not be used since 'tokenizer' is not None'\n",
      "  warnings.warn(\n"
     ]
    }
   ],
   "source": [
    "tfidf_vectorizer = TfidfVectorizer(tokenizer=custom_tokenizer, lowercase=True, min_df=1e-3)\n",
    "tfidf_train = tfidf_vectorizer.fit_transform(X_train)"
   ]
  },
  {
   "cell_type": "code",
   "execution_count": 16,
   "metadata": {},
   "outputs": [
    {
     "data": {
      "text/plain": [
       "(131180, 1918)"
      ]
     },
     "execution_count": 16,
     "metadata": {},
     "output_type": "execute_result"
    }
   ],
   "source": [
    "tfidf_train.shape"
   ]
  },
  {
   "attachments": {},
   "cell_type": "markdown",
   "metadata": {},
   "source": [
    "The dimension of the resulting training set is much larger than that of the original training data. It contains significantly more columns."
   ]
  },
  {
   "attachments": {},
   "cell_type": "markdown",
   "metadata": {},
   "source": [
    "## 7. Logistic with Hyper Parameter Tunning"
   ]
  },
  {
   "attachments": {},
   "cell_type": "markdown",
   "metadata": {},
   "source": [
    "A logistic pipeline is defined for coding convenience. It incorporates the `'custom_tokenizer'` defined above and the actual model."
   ]
  },
  {
   "cell_type": "code",
   "execution_count": 17,
   "metadata": {},
   "outputs": [],
   "source": [
    "logistic_pipe = Pipeline([\n",
    "    (\"tfidf\", TfidfVectorizer(tokenizer=custom_tokenizer, lowercase=True, min_df=1e-3, max_df=0.999)),\n",
    "    (\"logistic\", LogisticRegression(max_iter=int(1e4)))\n",
    "])"
   ]
  },
  {
   "attachments": {},
   "cell_type": "markdown",
   "metadata": {},
   "source": [
    "A small `GridSearchCV` is performed to tune the model. The parameters to be evaluated are defined in `'my_grid'`. The number of splits in `KFold` is 3. "
   ]
  },
  {
   "cell_type": "code",
   "execution_count": 18,
   "metadata": {},
   "outputs": [],
   "source": [
    "# Define parameter grid\n",
    "my_grid = {\n",
    "    'tfidf__ngram_range': [(1, 1), (1, 2)],\n",
    "    \"logistic__C\": [10, 100, 1000],\n",
    "}\n",
    "\n",
    "# Define folds\n",
    "folds = KFold(n_splits=3, shuffle=True, random_state=42)\n",
    "\n",
    "# Define grid search CV\n",
    "# tfidf_logistic_cv = GridSearchCV(estimator=logistic_pipe, param_grid=my_grid, scoring=\"accuracy\", cv=folds, n_jobs=-2)\n",
    "\n",
    "# Run CV\n",
    "# tfidf_logistic_cv.fit(X_train, Y_train)"
   ]
  },
  {
   "attachments": {},
   "cell_type": "markdown",
   "metadata": {},
   "source": [
    "The results have been saved and can be loaded below."
   ]
  },
  {
   "cell_type": "code",
   "execution_count": 19,
   "metadata": {},
   "outputs": [],
   "source": [
    "best_params_LR= tfidf_logistic_cv.best_params_\n"
   ]
  },
  {
   "cell_type": "code",
   "execution_count": 20,
   "metadata": {},
   "outputs": [],
   "source": [
    "best_model_LR = tfidf_logistic_cv.best_estimator_\n"
   ]
  },
  {
   "cell_type": "code",
   "execution_count": 21,
   "metadata": {},
   "outputs": [],
   "source": [
    "tfidf_vectorizery_hat = best_model_LR.predict(X_test)\n"
   ]
  },
  {
   "cell_type": "code",
   "execution_count": 22,
   "metadata": {},
   "outputs": [],
   "source": [
    "accuracy_LR= accuracy_score(Y_test, tfidf_vectorizery_hat)"
   ]
  },
  {
   "cell_type": "code",
   "execution_count": 23,
   "metadata": {},
   "outputs": [
    {
     "name": "stdout",
     "output_type": "stream",
     "text": [
      "Accuracy score for Logistic Regression: 0.5755450525994816\n"
     ]
    }
   ],
   "source": [
    "with open('grid_search_results_LR.pkl', 'rb') as f:\n",
    "    # Load the data from the file\n",
    "    best_params_LR, best_model_LR, accuracy_LR = pickle.load(f)\n",
    "\n",
    "# Now you can use the loaded data\n",
    "print(\"Accuracy score for Logistic Regression:\", accuracy_LR)"
   ]
  },
  {
   "attachments": {},
   "cell_type": "markdown",
   "metadata": {},
   "source": [
    "The resulting accuracy on the test set is 0.58. Here, the accurracy is defined as\n",
    "\n",
    "$$\n",
    "\\operatorname{accuracy}(y, \\hat{y})=\\frac{1}{n_{\\text {samples }}} \\sum_{i=0}^{n_{\\text {samples }}-1} 1\\left(\\hat{y}_i=y_i\\right),\n",
    "$$\n",
    "\n",
    "with $1(x)$ being the indicator function."
   ]
  },
  {
   "attachments": {},
   "cell_type": "markdown",
   "metadata": {},
   "source": [
    "# KNN Classification"
   ]
  },
  {
   "attachments": {},
   "cell_type": "markdown",
   "metadata": {},
   "source": [
    "## 0. Downloading the Data"
   ]
  },
  {
   "cell_type": "code",
   "execution_count": 2,
   "metadata": {},
   "outputs": [
    {
     "name": "stdout",
     "output_type": "stream",
     "text": [
      "Train: (164000, 8)\n",
      "Test: (41000, 7)\n"
     ]
    }
   ],
   "source": [
    "df_train = pd.read_csv(\"ATML2023_reviews_train.csv\")\n",
    "df_test = pd.read_csv(\"ATML2023_reviews_test.csv\")\n",
    "print(f\"Train: {df_train.shape}\")\n",
    "print(f\"Test: {df_test.shape}\")"
   ]
  },
  {
   "attachments": {},
   "cell_type": "markdown",
   "metadata": {},
   "source": [
    "## 1. Data Preprocessing"
   ]
  },
  {
   "attachments": {},
   "cell_type": "markdown",
   "metadata": {},
   "source": [
    "The `'review_body'` and `'review_title'` are combined into one string. Performance is enhanced by including all information."
   ]
  },
  {
   "cell_type": "code",
   "execution_count": 3,
   "metadata": {},
   "outputs": [],
   "source": [
    "df_train['review_body'] = df_train['review_title'] + ' ' + df_train['review_body']\n",
    "df_test['review_body'] = df_test['review_title'] + ' ' + df_test['review_body']"
   ]
  },
  {
   "attachments": {},
   "cell_type": "markdown",
   "metadata": {},
   "source": [
    "All NA's and duplicates are dropped from the training dataframe. These will not add anything to the model training and it is best to exclude them."
   ]
  },
  {
   "cell_type": "code",
   "execution_count": 4,
   "metadata": {},
   "outputs": [],
   "source": [
    "df_train = df_train.dropna().drop_duplicates().reset_index(drop=True)"
   ]
  },
  {
   "attachments": {},
   "cell_type": "markdown",
   "metadata": {},
   "source": [
    "All capital letters are lowered."
   ]
  },
  {
   "cell_type": "code",
   "execution_count": 5,
   "metadata": {},
   "outputs": [],
   "source": [
    "df_train['review_body'] = df_train['review_body'].apply(lambda x: x.lower())\n",
    "df_test['review_body'] = df_test['review_body'].apply(lambda x: x.lower() if isinstance(x, str) else x)"
   ]
  },
  {
   "cell_type": "code",
   "execution_count": 6,
   "metadata": {},
   "outputs": [
    {
     "name": "stdout",
     "output_type": "stream",
     "text": [
      "Train: (163975, 8)\n",
      "Test: (41000, 7)\n"
     ]
    }
   ],
   "source": [
    "print(f\"Train: {df_train.shape}\")\n",
    "print(f\"Test: {df_test.shape}\")"
   ]
  },
  {
   "attachments": {},
   "cell_type": "markdown",
   "metadata": {},
   "source": [
    "## 2. Stemming"
   ]
  },
  {
   "attachments": {},
   "cell_type": "markdown",
   "metadata": {},
   "source": [
    "Stemming is a technique used to obtain the roots of words. This simplifies the machine learning process by reducing words to their most basic meaning. Lemmatization was also tried at this step, however, stemming provided better results <a href=\"#ref\">(Manning et al.)</a>. This might be due to the fact that the dataset is very large. Here, the Snowball stemmer is used for the English language. Snowball is a small string processing language for creating stemming algorithms for use in Information Retrieval."
   ]
  },
  {
   "cell_type": "code",
   "execution_count": 7,
   "metadata": {},
   "outputs": [],
   "source": [
    "snowstem = SnowballStemmer(\"english\")"
   ]
  },
  {
   "attachments": {},
   "cell_type": "markdown",
   "metadata": {},
   "source": [
    "A custom `stemming_tokenizer` is defined to preprocess the data efficiently. The tokenizer includes:\n",
    "- an expansion of contracted words (such as won't, haven't, etc)\n",
    "- the nltk tokenizer\n",
    "- a removal of stopwords, which do not bring any significant meaning to the text (nltk stopwords)\n",
    "- removal of punctuation\n",
    "- stemming"
   ]
  },
  {
   "cell_type": "code",
   "execution_count": 8,
   "metadata": {},
   "outputs": [],
   "source": [
    "stopwords = nltk.corpus.stopwords.words(\"english\")\n",
    "\n",
    "def stemming_tokenizer(text: str):\n",
    "    \n",
    "    # Expanding contractions:\n",
    "    expanded_words = []\n",
    "    for word in text.split():\n",
    "        expanded_words.append(contractions.fix(word)) \n",
    "        expanded_text = ' '.join(expanded_words)\n",
    "    \n",
    "    # Tokenizing:\n",
    "    text_tokens = nltk.word_tokenize(expanded_text)\n",
    "\n",
    "    # Removing Stopwords:\n",
    "    filtered_text = [w for w in text_tokens if not w.lower() in stopwords]\n",
    "    \n",
    "    \n",
    "# Removing punctuation:\n",
    "    no_punctuation = list(filter(lambda filtered_text: filtered_text not in string.punctuation, filtered_text))\n",
    "    # Stemming (capitals removed here)\n",
    "    text_stems = [snowstem.stem(word) for word in no_punctuation]\n",
    "    \n",
    "    return text_stems"
   ]
  },
  {
   "attachments": {},
   "cell_type": "markdown",
   "metadata": {},
   "source": [
    "The training data set is passed through the `stemming_tokenizer`:"
   ]
  },
  {
   "cell_type": "code",
   "execution_count": 9,
   "metadata": {},
   "outputs": [],
   "source": [
    "corpus_stemming = df_train.review_body.apply(lambda row: stemming_tokenizer(row))"
   ]
  },
  {
   "attachments": {},
   "cell_type": "markdown",
   "metadata": {},
   "source": [
    "All integers in the test data set are converted to strings and then passed through the `'stemming_tokenizer'`."
   ]
  },
  {
   "cell_type": "code",
   "execution_count": 10,
   "metadata": {},
   "outputs": [],
   "source": [
    "# Converting any integers in the test corpus to str:\n",
    "df_test['review_body'] = (df_test['review_body']).apply(str)\n",
    "test_stemming = df_test.review_body.apply(lambda row: stemming_tokenizer(row))"
   ]
  },
  {
   "attachments": {},
   "cell_type": "markdown",
   "metadata": {},
   "source": [
    "## 3. Word2Vec"
   ]
  },
  {
   "attachments": {},
   "cell_type": "markdown",
   "metadata": {},
   "source": [
    "`Word2Vec` is a common method of generating word embeddings; a method to convert words into vectors or numerical representations. Each word is mapped to a vector and each vector is learned through a machine learning model. The model tries to learn word contexts, similarities, dissimilarities, semantic relationships between words, etc.\n",
    "\n",
    "Here, the Skip-Gram model is used, which is a neural network with one hidden layer. It tries to predict the probability of a word being present, when an input word it present. In essence, it tries to learn word contexts for a given word of input<a href=\"#ref\">(Towards Data Science, 2021)</a>."
   ]
  },
  {
   "cell_type": "code",
   "execution_count": 11,
   "metadata": {},
   "outputs": [
    {
     "name": "stdout",
     "output_type": "stream",
     "text": [
      "Word2Vec<vocab=16348, vector_size=200, alpha=0.1>\n"
     ]
    }
   ],
   "source": [
    "vector_size = 200\n",
    "\n",
    "w2v_stem_model = Word2Vec(\n",
    "    corpus_stemming,\n",
    "    alpha=0.1,\n",
    "    vector_size=vector_size,\n",
    "    min_count=3,  \n",
    "    sg = 1, # skip-gram\n",
    "    window=50,   \n",
    ")   \n",
    "\n",
    "print(w2v_stem_model)"
   ]
  },
  {
   "attachments": {},
   "cell_type": "markdown",
   "metadata": {},
   "source": [
    "A quick, manual hyperparameter tuning was performed (not shown here) and a large vector size  and large window was found to perform better. "
   ]
  },
  {
   "cell_type": "code",
   "execution_count": 12,
   "metadata": {},
   "outputs": [],
   "source": [
    "vocab_stemming = w2v_stem_model.wv.key_to_index\n",
    "len(vocab_stemming)\n",
    "stem_words = set(w2v_stem_model.wv.key_to_index)"
   ]
  },
  {
   "cell_type": "code",
   "execution_count": 13,
   "metadata": {},
   "outputs": [
    {
     "name": "stderr",
     "output_type": "stream",
     "text": [
      "/var/folders/1z/2qtxqpxj07g0pvc7h463fm_w0000gn/T/ipykernel_99291/1912696036.py:1: VisibleDeprecationWarning: Creating an ndarray from ragged nested sequences (which is a list-or-tuple of lists-or-tuples-or ndarrays with different lengths or shapes) is deprecated. If you meant to do this, you must specify 'dtype=object' when creating the ndarray.\n",
      "  corpus_stemming = np.array([np.array([w2v_stem_model.wv[i] for i in ls if i in stem_words])\n"
     ]
    }
   ],
   "source": [
    "corpus_stemming = np.array([np.array([w2v_stem_model.wv[i] for i in ls if i in stem_words])\n",
    "                         for ls in corpus_stemming])"
   ]
  },
  {
   "attachments": {},
   "cell_type": "markdown",
   "metadata": {},
   "source": [
    "Vectors are averaged to be consistent in terms of feature number and to be able to pass them into the machine learning model. Now each vector will  be of the same length, with the same number of features."
   ]
  },
  {
   "cell_type": "code",
   "execution_count": 14,
   "metadata": {},
   "outputs": [],
   "source": [
    "text_vect_avg = []\n",
    "for v in corpus_stemming:\n",
    "    if v.size:\n",
    "        text_vect_avg.append(v.mean(axis=0))\n",
    "    else:\n",
    "        text_vect_avg.append(np.zeros(vector_size, dtype=float)) \n",
    "        \n",
    "        \n",
    "corpus_stemming = text_vect_avg"
   ]
  },
  {
   "attachments": {},
   "cell_type": "markdown",
   "metadata": {},
   "source": [
    "A dataframe is created with the new vectors:"
   ]
  },
  {
   "cell_type": "code",
   "execution_count": 15,
   "metadata": {},
   "outputs": [],
   "source": [
    "corpus_stemming = pd.DataFrame(corpus_stemming)\n",
    "corpus_stemming.columns = ['S_Element_' + str(i+1) for i in range(0, corpus_stemming.shape[1])]"
   ]
  },
  {
   "attachments": {},
   "cell_type": "markdown",
   "metadata": {},
   "source": [
    "Repeating the same process with the test data:"
   ]
  },
  {
   "cell_type": "code",
   "execution_count": 16,
   "metadata": {},
   "outputs": [
    {
     "name": "stdout",
     "output_type": "stream",
     "text": [
      "Word2Vec<vocab=8610, vector_size=200, alpha=0.1>\n"
     ]
    }
   ],
   "source": [
    "vector_size = 200\n",
    "\n",
    "w2v_stem_test = Word2Vec(\n",
    "    test_stemming,\n",
    "    alpha=0.1,\n",
    "    vector_size=vector_size,\n",
    "    min_count=3,  \n",
    "    sg = 1,    \n",
    "    window=50,   \n",
    ")   \n",
    "\n",
    "print(w2v_stem_test)"
   ]
  },
  {
   "cell_type": "code",
   "execution_count": 17,
   "metadata": {},
   "outputs": [],
   "source": [
    "vocab_test = w2v_stem_test.wv.key_to_index\n",
    "len(vocab_test)\n",
    "stem_words_test = set(w2v_stem_test.wv.key_to_index)"
   ]
  },
  {
   "cell_type": "code",
   "execution_count": 18,
   "metadata": {},
   "outputs": [
    {
     "name": "stderr",
     "output_type": "stream",
     "text": [
      "/var/folders/1z/2qtxqpxj07g0pvc7h463fm_w0000gn/T/ipykernel_99291/2231021143.py:1: VisibleDeprecationWarning: Creating an ndarray from ragged nested sequences (which is a list-or-tuple of lists-or-tuples-or ndarrays with different lengths or shapes) is deprecated. If you meant to do this, you must specify 'dtype=object' when creating the ndarray.\n",
      "  test_stemming = np.array([np.array([w2v_stem_test.wv[i] for i in ls if i in stem_words_test])\n"
     ]
    }
   ],
   "source": [
    "test_stemming = np.array([np.array([w2v_stem_test.wv[i] for i in ls if i in stem_words_test])\n",
    "                         for ls in test_stemming])"
   ]
  },
  {
   "cell_type": "code",
   "execution_count": 19,
   "metadata": {},
   "outputs": [],
   "source": [
    "text_vect_avg = []\n",
    "for v in test_stemming:\n",
    "    if v.size:\n",
    "        text_vect_avg.append(v.mean(axis=0))\n",
    "    else:\n",
    "        text_vect_avg.append(np.zeros(vector_size, dtype=float)) \n",
    "        \n",
    "        \n",
    "test_stemming = text_vect_avg"
   ]
  },
  {
   "cell_type": "code",
   "execution_count": 20,
   "metadata": {},
   "outputs": [],
   "source": [
    "test_stemming = pd.DataFrame(test_stemming)\n",
    "test_stemming.columns = ['S_Element_' + str(i+1) for i in range(0, test_stemming.shape[1])]"
   ]
  },
  {
   "attachments": {},
   "cell_type": "markdown",
   "metadata": {},
   "source": [
    "##  4. Splitting the Data"
   ]
  },
  {
   "attachments": {},
   "cell_type": "markdown",
   "metadata": {},
   "source": [
    "The training dataset needs to be further split into test and training in order to be able to estimate the accuracy of the model."
   ]
  },
  {
   "cell_type": "code",
   "execution_count": 21,
   "metadata": {},
   "outputs": [],
   "source": [
    "df_train['rating'] = (np.array([int(label) for label in df_train['rating']])).astype(int)"
   ]
  },
  {
   "attachments": {},
   "cell_type": "markdown",
   "metadata": {},
   "source": [
    "The response variable `'rating'` takes on 5 unique values, which are 1 through 5. Here, one is removed from each rating to make the variable take on the values 0 to 4 (consistent with python language inputs)."
   ]
  },
  {
   "cell_type": "code",
   "execution_count": 22,
   "metadata": {},
   "outputs": [],
   "source": [
    "df_train['rating'] = df_train['rating'] - 1"
   ]
  },
  {
   "cell_type": "code",
   "execution_count": 23,
   "metadata": {},
   "outputs": [
    {
     "name": "stdout",
     "output_type": "stream",
     "text": [
      "Train X set shape: (131180, 200)\n",
      "Test X set shape: (32795, 200)\n",
      "Train Y set shape: (131180,)\n",
      "Test Y set shape: (32795,)\n"
     ]
    }
   ],
   "source": [
    "# Split the data into train and test sets\n",
    "X_train,X_test,Y_train, Y_test = train_test_split(corpus_stemming, df_train['rating'],test_size=0.2, random_state=977,shuffle=True)\n",
    "\n",
    "# Print the shapes of the train and test sets\n",
    "print(\"Train X set shape:\", X_train.shape)\n",
    "print(\"Test X set shape:\", X_test.shape)\n",
    "print(\"Train Y set shape:\", Y_train.shape)\n",
    "print(\"Test Y set shape:\", Y_test.shape)"
   ]
  },
  {
   "attachments": {},
   "cell_type": "markdown",
   "metadata": {},
   "source": [
    "## 7. KNN with Hyper Parameter Tunning"
   ]
  },
  {
   "attachments": {},
   "cell_type": "markdown",
   "metadata": {},
   "source": [
    "K-NearestNeigbbors is one of the most simple non-parametric Machine Learning algorithms. It can be used both in regression and classification tasks. In classification, a text is classified based on the classification of its $k$ nearest neighbors. When $k$ is equal to 1, classification will be based on the text which is most similar to itself. The KNN algorithm calculates the distance between a data point and all other data points and assigns a class similar to the $k$ closest datapoints  <a href=\"#ref\">(Kaggle, 2020)</a> ."
   ]
  },
  {
   "attachments": {},
   "cell_type": "markdown",
   "metadata": {},
   "source": [
    "Here, $k$ is chosen to be 5 to perform a first trial. The model is fit on the training set."
   ]
  },
  {
   "cell_type": "code",
   "execution_count": 24,
   "metadata": {},
   "outputs": [
    {
     "data": {
      "text/html": [
       "<style>#sk-container-id-1 {color: black;background-color: white;}#sk-container-id-1 pre{padding: 0;}#sk-container-id-1 div.sk-toggleable {background-color: white;}#sk-container-id-1 label.sk-toggleable__label {cursor: pointer;display: block;width: 100%;margin-bottom: 0;padding: 0.3em;box-sizing: border-box;text-align: center;}#sk-container-id-1 label.sk-toggleable__label-arrow:before {content: \"▸\";float: left;margin-right: 0.25em;color: #696969;}#sk-container-id-1 label.sk-toggleable__label-arrow:hover:before {color: black;}#sk-container-id-1 div.sk-estimator:hover label.sk-toggleable__label-arrow:before {color: black;}#sk-container-id-1 div.sk-toggleable__content {max-height: 0;max-width: 0;overflow: hidden;text-align: left;background-color: #f0f8ff;}#sk-container-id-1 div.sk-toggleable__content pre {margin: 0.2em;color: black;border-radius: 0.25em;background-color: #f0f8ff;}#sk-container-id-1 input.sk-toggleable__control:checked~div.sk-toggleable__content {max-height: 200px;max-width: 100%;overflow: auto;}#sk-container-id-1 input.sk-toggleable__control:checked~label.sk-toggleable__label-arrow:before {content: \"▾\";}#sk-container-id-1 div.sk-estimator input.sk-toggleable__control:checked~label.sk-toggleable__label {background-color: #d4ebff;}#sk-container-id-1 div.sk-label input.sk-toggleable__control:checked~label.sk-toggleable__label {background-color: #d4ebff;}#sk-container-id-1 input.sk-hidden--visually {border: 0;clip: rect(1px 1px 1px 1px);clip: rect(1px, 1px, 1px, 1px);height: 1px;margin: -1px;overflow: hidden;padding: 0;position: absolute;width: 1px;}#sk-container-id-1 div.sk-estimator {font-family: monospace;background-color: #f0f8ff;border: 1px dotted black;border-radius: 0.25em;box-sizing: border-box;margin-bottom: 0.5em;}#sk-container-id-1 div.sk-estimator:hover {background-color: #d4ebff;}#sk-container-id-1 div.sk-parallel-item::after {content: \"\";width: 100%;border-bottom: 1px solid gray;flex-grow: 1;}#sk-container-id-1 div.sk-label:hover label.sk-toggleable__label {background-color: #d4ebff;}#sk-container-id-1 div.sk-serial::before {content: \"\";position: absolute;border-left: 1px solid gray;box-sizing: border-box;top: 0;bottom: 0;left: 50%;z-index: 0;}#sk-container-id-1 div.sk-serial {display: flex;flex-direction: column;align-items: center;background-color: white;padding-right: 0.2em;padding-left: 0.2em;position: relative;}#sk-container-id-1 div.sk-item {position: relative;z-index: 1;}#sk-container-id-1 div.sk-parallel {display: flex;align-items: stretch;justify-content: center;background-color: white;position: relative;}#sk-container-id-1 div.sk-item::before, #sk-container-id-1 div.sk-parallel-item::before {content: \"\";position: absolute;border-left: 1px solid gray;box-sizing: border-box;top: 0;bottom: 0;left: 50%;z-index: -1;}#sk-container-id-1 div.sk-parallel-item {display: flex;flex-direction: column;z-index: 1;position: relative;background-color: white;}#sk-container-id-1 div.sk-parallel-item:first-child::after {align-self: flex-end;width: 50%;}#sk-container-id-1 div.sk-parallel-item:last-child::after {align-self: flex-start;width: 50%;}#sk-container-id-1 div.sk-parallel-item:only-child::after {width: 0;}#sk-container-id-1 div.sk-dashed-wrapped {border: 1px dashed gray;margin: 0 0.4em 0.5em 0.4em;box-sizing: border-box;padding-bottom: 0.4em;background-color: white;}#sk-container-id-1 div.sk-label label {font-family: monospace;font-weight: bold;display: inline-block;line-height: 1.2em;}#sk-container-id-1 div.sk-label-container {text-align: center;}#sk-container-id-1 div.sk-container {/* jupyter's `normalize.less` sets `[hidden] { display: none; }` but bootstrap.min.css set `[hidden] { display: none !important; }` so we also need the `!important` here to be able to override the default hidden behavior on the sphinx rendered scikit-learn.org. See: https://github.com/scikit-learn/scikit-learn/issues/21755 */display: inline-block !important;position: relative;}#sk-container-id-1 div.sk-text-repr-fallback {display: none;}</style><div id=\"sk-container-id-1\" class=\"sk-top-container\"><div class=\"sk-text-repr-fallback\"><pre>KNeighborsClassifier()</pre><b>In a Jupyter environment, please rerun this cell to show the HTML representation or trust the notebook. <br />On GitHub, the HTML representation is unable to render, please try loading this page with nbviewer.org.</b></div><div class=\"sk-container\" hidden><div class=\"sk-item\"><div class=\"sk-estimator sk-toggleable\"><input class=\"sk-toggleable__control sk-hidden--visually\" id=\"sk-estimator-id-1\" type=\"checkbox\" checked><label for=\"sk-estimator-id-1\" class=\"sk-toggleable__label sk-toggleable__label-arrow\">KNeighborsClassifier</label><div class=\"sk-toggleable__content\"><pre>KNeighborsClassifier()</pre></div></div></div></div></div>"
      ],
      "text/plain": [
       "KNeighborsClassifier()"
      ]
     },
     "execution_count": 24,
     "metadata": {},
     "output_type": "execute_result"
    }
   ],
   "source": [
    "knn_model = KNeighborsClassifier(n_neighbors=5)\n",
    "knn_model.fit(X_train, Y_train)"
   ]
  },
  {
   "cell_type": "code",
   "execution_count": 47,
   "metadata": {},
   "outputs": [
    {
     "name": "stdout",
     "output_type": "stream",
     "text": [
      "Stemmed KNN Train Accuracy 0.611335569446562\n"
     ]
    }
   ],
   "source": [
    "print('Stemmed KNN Train Accuracy %s' % knn_model.score(X_train, Y_train)) "
   ]
  },
  {
   "attachments": {},
   "cell_type": "markdown",
   "metadata": {},
   "source": [
    "The `score` method returns the mean accuracy on the given test data and labels. \n",
    "\n",
    "Now a GridSearchCV will be performed to find the best number of nearest neighbors. "
   ]
  },
  {
   "cell_type": "code",
   "execution_count": 68,
   "metadata": {},
   "outputs": [
    {
     "data": {
      "text/html": [
       "<style>#sk-container-id-3 {color: black;background-color: white;}#sk-container-id-3 pre{padding: 0;}#sk-container-id-3 div.sk-toggleable {background-color: white;}#sk-container-id-3 label.sk-toggleable__label {cursor: pointer;display: block;width: 100%;margin-bottom: 0;padding: 0.3em;box-sizing: border-box;text-align: center;}#sk-container-id-3 label.sk-toggleable__label-arrow:before {content: \"▸\";float: left;margin-right: 0.25em;color: #696969;}#sk-container-id-3 label.sk-toggleable__label-arrow:hover:before {color: black;}#sk-container-id-3 div.sk-estimator:hover label.sk-toggleable__label-arrow:before {color: black;}#sk-container-id-3 div.sk-toggleable__content {max-height: 0;max-width: 0;overflow: hidden;text-align: left;background-color: #f0f8ff;}#sk-container-id-3 div.sk-toggleable__content pre {margin: 0.2em;color: black;border-radius: 0.25em;background-color: #f0f8ff;}#sk-container-id-3 input.sk-toggleable__control:checked~div.sk-toggleable__content {max-height: 200px;max-width: 100%;overflow: auto;}#sk-container-id-3 input.sk-toggleable__control:checked~label.sk-toggleable__label-arrow:before {content: \"▾\";}#sk-container-id-3 div.sk-estimator input.sk-toggleable__control:checked~label.sk-toggleable__label {background-color: #d4ebff;}#sk-container-id-3 div.sk-label input.sk-toggleable__control:checked~label.sk-toggleable__label {background-color: #d4ebff;}#sk-container-id-3 input.sk-hidden--visually {border: 0;clip: rect(1px 1px 1px 1px);clip: rect(1px, 1px, 1px, 1px);height: 1px;margin: -1px;overflow: hidden;padding: 0;position: absolute;width: 1px;}#sk-container-id-3 div.sk-estimator {font-family: monospace;background-color: #f0f8ff;border: 1px dotted black;border-radius: 0.25em;box-sizing: border-box;margin-bottom: 0.5em;}#sk-container-id-3 div.sk-estimator:hover {background-color: #d4ebff;}#sk-container-id-3 div.sk-parallel-item::after {content: \"\";width: 100%;border-bottom: 1px solid gray;flex-grow: 1;}#sk-container-id-3 div.sk-label:hover label.sk-toggleable__label {background-color: #d4ebff;}#sk-container-id-3 div.sk-serial::before {content: \"\";position: absolute;border-left: 1px solid gray;box-sizing: border-box;top: 0;bottom: 0;left: 50%;z-index: 0;}#sk-container-id-3 div.sk-serial {display: flex;flex-direction: column;align-items: center;background-color: white;padding-right: 0.2em;padding-left: 0.2em;position: relative;}#sk-container-id-3 div.sk-item {position: relative;z-index: 1;}#sk-container-id-3 div.sk-parallel {display: flex;align-items: stretch;justify-content: center;background-color: white;position: relative;}#sk-container-id-3 div.sk-item::before, #sk-container-id-3 div.sk-parallel-item::before {content: \"\";position: absolute;border-left: 1px solid gray;box-sizing: border-box;top: 0;bottom: 0;left: 50%;z-index: -1;}#sk-container-id-3 div.sk-parallel-item {display: flex;flex-direction: column;z-index: 1;position: relative;background-color: white;}#sk-container-id-3 div.sk-parallel-item:first-child::after {align-self: flex-end;width: 50%;}#sk-container-id-3 div.sk-parallel-item:last-child::after {align-self: flex-start;width: 50%;}#sk-container-id-3 div.sk-parallel-item:only-child::after {width: 0;}#sk-container-id-3 div.sk-dashed-wrapped {border: 1px dashed gray;margin: 0 0.4em 0.5em 0.4em;box-sizing: border-box;padding-bottom: 0.4em;background-color: white;}#sk-container-id-3 div.sk-label label {font-family: monospace;font-weight: bold;display: inline-block;line-height: 1.2em;}#sk-container-id-3 div.sk-label-container {text-align: center;}#sk-container-id-3 div.sk-container {/* jupyter's `normalize.less` sets `[hidden] { display: none; }` but bootstrap.min.css set `[hidden] { display: none !important; }` so we also need the `!important` here to be able to override the default hidden behavior on the sphinx rendered scikit-learn.org. See: https://github.com/scikit-learn/scikit-learn/issues/21755 */display: inline-block !important;position: relative;}#sk-container-id-3 div.sk-text-repr-fallback {display: none;}</style><div id=\"sk-container-id-3\" class=\"sk-top-container\"><div class=\"sk-text-repr-fallback\"><pre>GridSearchCV(estimator=KNeighborsClassifier(),\n",
       "             param_grid={&#x27;n_neighbors&#x27;: range(5, 200, 5)}, scoring=&#x27;accuracy&#x27;)</pre><b>In a Jupyter environment, please rerun this cell to show the HTML representation or trust the notebook. <br />On GitHub, the HTML representation is unable to render, please try loading this page with nbviewer.org.</b></div><div class=\"sk-container\" hidden><div class=\"sk-item sk-dashed-wrapped\"><div class=\"sk-label-container\"><div class=\"sk-label sk-toggleable\"><input class=\"sk-toggleable__control sk-hidden--visually\" id=\"sk-estimator-id-3\" type=\"checkbox\" ><label for=\"sk-estimator-id-3\" class=\"sk-toggleable__label sk-toggleable__label-arrow\">GridSearchCV</label><div class=\"sk-toggleable__content\"><pre>GridSearchCV(estimator=KNeighborsClassifier(),\n",
       "             param_grid={&#x27;n_neighbors&#x27;: range(5, 200, 5)}, scoring=&#x27;accuracy&#x27;)</pre></div></div></div><div class=\"sk-parallel\"><div class=\"sk-parallel-item\"><div class=\"sk-item\"><div class=\"sk-label-container\"><div class=\"sk-label sk-toggleable\"><input class=\"sk-toggleable__control sk-hidden--visually\" id=\"sk-estimator-id-4\" type=\"checkbox\" ><label for=\"sk-estimator-id-4\" class=\"sk-toggleable__label sk-toggleable__label-arrow\">estimator: KNeighborsClassifier</label><div class=\"sk-toggleable__content\"><pre>KNeighborsClassifier()</pre></div></div></div><div class=\"sk-serial\"><div class=\"sk-item\"><div class=\"sk-estimator sk-toggleable\"><input class=\"sk-toggleable__control sk-hidden--visually\" id=\"sk-estimator-id-5\" type=\"checkbox\" ><label for=\"sk-estimator-id-5\" class=\"sk-toggleable__label sk-toggleable__label-arrow\">KNeighborsClassifier</label><div class=\"sk-toggleable__content\"><pre>KNeighborsClassifier()</pre></div></div></div></div></div></div></div></div></div></div>"
      ],
      "text/plain": [
       "GridSearchCV(estimator=KNeighborsClassifier(),\n",
       "             param_grid={'n_neighbors': range(5, 200, 5)}, scoring='accuracy')"
      ]
     },
     "execution_count": 68,
     "metadata": {},
     "output_type": "execute_result"
    }
   ],
   "source": [
    "# parameters = {\"n_neighbors\": range(5, 200, 5)}\n",
    "# KNN_cv = GridSearchCV(KNeighborsClassifier(), parameters, refit = True, scoring='accuracy')\n",
    "# KNN_cv.fit(X_train, Y_train)"
   ]
  },
  {
   "cell_type": "code",
   "execution_count": 1,
   "metadata": {},
   "outputs": [],
   "source": [
    "# joblib.dump(KNN_cv.best_estimator_, \"best_est_KNN.pkl\", compress=1)\n",
    "# joblib.dump(KNN_cv.best_params_, \"best_params_KNN.pkl\", compress=1)"
   ]
  },
  {
   "cell_type": "code",
   "execution_count": 38,
   "metadata": {},
   "outputs": [],
   "source": [
    "KNN_cv = joblib.load(\"best_est_KNN.pkl\")"
   ]
  },
  {
   "cell_type": "code",
   "execution_count": 39,
   "metadata": {},
   "outputs": [
    {
     "data": {
      "text/plain": [
       "{'n_neighbors': 145}"
      ]
     },
     "execution_count": 39,
     "metadata": {},
     "output_type": "execute_result"
    }
   ],
   "source": [
    "KNN_cv_param = joblib.load(\"best_params_KNN.pkl\")\n",
    "KNN_cv_param "
   ]
  },
  {
   "attachments": {},
   "cell_type": "markdown",
   "metadata": {},
   "source": [
    "The best parameters resulted to be 145 neighbors. The model will now be used to predict the class of the test set (which is part of the training data set and for which we know the results)."
   ]
  },
  {
   "cell_type": "code",
   "execution_count": 72,
   "metadata": {},
   "outputs": [],
   "source": [
    "KNN_vector_hat = KNN_cv.predict(X_test)"
   ]
  },
  {
   "cell_type": "code",
   "execution_count": 73,
   "metadata": {},
   "outputs": [
    {
     "data": {
      "text/plain": [
       "array([0, 3, 1, ..., 0, 4, 4])"
      ]
     },
     "execution_count": 73,
     "metadata": {},
     "output_type": "execute_result"
    }
   ],
   "source": [
    "KNN_vector_hat"
   ]
  },
  {
   "cell_type": "code",
   "execution_count": 74,
   "metadata": {},
   "outputs": [
    {
     "data": {
      "text/plain": [
       "0.4683030949839915"
      ]
     },
     "execution_count": 74,
     "metadata": {},
     "output_type": "execute_result"
    }
   ],
   "source": [
    "accuracy_KNN= accuracy_score(Y_test, KNN_vector_hat)\n",
    "accuracy_KNN"
   ]
  },
  {
   "attachments": {},
   "cell_type": "markdown",
   "metadata": {},
   "source": [
    "Strangely, the accuracy of the best parameter from the GridSearchCV is less than that with a random hyperparameter of 5. The accuracy score shows the fraction of the correctly prredicted responses. The result is worse probably due to overfitting in the model where $k=5$, since there is a probability of overfitting for a KNN model with small $k$. In that case, the model will not generalize well to new data as it follows the noise rather than the underlying trend."
   ]
  },
  {
   "attachments": {},
   "cell_type": "markdown",
   "metadata": {},
   "source": [
    "#### Confusion matrix"
   ]
  },
  {
   "cell_type": "code",
   "execution_count": 25,
   "metadata": {},
   "outputs": [],
   "source": [
    "# Get the predicted labels\n",
    "Y_pred_KNN_1 = knn_model.predict(X_train)"
   ]
  },
  {
   "cell_type": "code",
   "execution_count": 26,
   "metadata": {},
   "outputs": [],
   "source": [
    "# Create the confusion matrix\n",
    "conf_matrix_KNN_1 = confusion_matrix(Y_train, Y_pred_KNN_1)"
   ]
  },
  {
   "cell_type": "code",
   "execution_count": 29,
   "metadata": {},
   "outputs": [
    {
     "data": {
      "image/png": "[encoded data removed]",
      "text/plain": [
       "<Figure size 800x600 with 2 Axes>"
      ]
     },
     "metadata": {},
     "output_type": "display_data"
    }
   ],
   "source": [
    "num_classes = 5\n",
    "\n",
    "# Plot the confusion matrix\n",
    "plt.figure(figsize=(8, 6))\n",
    "plt.imshow(conf_matrix_KNN_1, cmap=plt.cm.Blues)\n",
    "plt.title('Confusion Matrix for KNN', fontsize=15)\n",
    "plt.xlabel('Predicted Labels', fontsize=15)\n",
    "plt.ylabel('True Labels', fontsize=15)\n",
    "# Replace x-axis and y-axis ticks\n",
    "ticks = np.arange(0, num_classes)\n",
    "labels = [str(i) for i in range(1, num_classes+1)]\n",
    "plt.xticks(ticks, labels)\n",
    "plt.yticks(ticks, labels)\n",
    "\n",
    "plt.colorbar()\n",
    "for i in range(num_classes):\n",
    "    for j in range(num_classes):\n",
    "        try:\n",
    "            plt.text(j, i, conf_matrix_KNN_1[i, j], ha='center', va='center', color='orange')\n",
    "        except IndexError:\n",
    "            pass\n",
    "plt.show()"
   ]
  },
  {
   "attachments": {},
   "cell_type": "markdown",
   "metadata": {},
   "source": [
    "The confusion matrix with the KNN model set to $k=5$ does a very nice job at predicting the training set. However, this the the result of overfitting on the training set."
   ]
  },
  {
   "attachments": {},
   "cell_type": "markdown",
   "metadata": {},
   "source": [
    "Plotting the confusion matrix using the parameters from the GridSearchCV:"
   ]
  },
  {
   "cell_type": "code",
   "execution_count": 46,
   "metadata": {},
   "outputs": [],
   "source": [
    "# Get the predicted labels\n",
    "Y_pred_KNN = KNN_cv.predict(X_train)"
   ]
  },
  {
   "cell_type": "code",
   "execution_count": 47,
   "metadata": {},
   "outputs": [],
   "source": [
    "# Create the confusion matrix\n",
    "conf_matrix_KNN = confusion_matrix(Y_train, Y_pred_KNN)"
   ]
  },
  {
   "cell_type": "code",
   "execution_count": 48,
   "metadata": {},
   "outputs": [
    {
     "data": {
      "image/png": "[encoded data removed]",
      "text/plain": [
       "<Figure size 800x600 with 2 Axes>"
      ]
     },
     "metadata": {},
     "output_type": "display_data"
    }
   ],
   "source": [
    "num_classes = 5\n",
    "\n",
    "# Plot the confusion matrix\n",
    "plt.figure(figsize=(8, 6))\n",
    "plt.imshow(conf_matrix_KNN, cmap=plt.cm.Blues)\n",
    "plt.title('Confusion Matrix for KNN', fontsize=15)\n",
    "plt.xlabel('Predicted Labels', fontsize=15)\n",
    "plt.ylabel('True Labels', fontsize=15)\n",
    "# Replace x-axis and y-axis ticks\n",
    "ticks = np.arange(0, num_classes)\n",
    "labels = [str(i) for i in range(1, num_classes+1)]\n",
    "plt.xticks(ticks, labels)\n",
    "plt.yticks(ticks, labels)\n",
    "\n",
    "plt.colorbar()\n",
    "for i in range(num_classes):\n",
    "    for j in range(num_classes):\n",
    "        try:\n",
    "            plt.text(j, i, conf_matrix_KNN[i, j], ha='center', va='center', color='orange')\n",
    "        except IndexError:\n",
    "            pass\n",
    "plt.show()"
   ]
  },
  {
   "attachments": {},
   "cell_type": "markdown",
   "metadata": {},
   "source": [
    "From the confusion matrix, we can see that the model is only classifying the first 2 classes when k=145 (the result form GridSearchCV). It fails to classify the rest of the classes. This model is now dropped and other more impactful models are considered for further analysis."
   ]
  },
  {
   "attachments": {},
   "cell_type": "markdown",
   "metadata": {},
   "source": [
    "<h2 id=\"ref\">References</h2>"
   ]
  },
  {
   "attachments": {},
   "cell_type": "markdown",
   "metadata": {},
   "source": [
    "1. Manning, C, Raghavan, P & Schutze, H, *Introduction to Information Retrieval* , Cambridge University Press, 2008. https://nlp.stanford.edu/IR-book/html/htmledition/stemming-and-lemmatization-1.html\n",
    "\n",
    "2. Towards Data Science 2021, *Word2Vec Explained*, viewed 6 May 2023. \n",
    "https://towardsdatascience.com/word2vec-explained-49c52b4ccb71\n",
    "\n",
    "3. Medium 2021, *Classification Using Word2Vec*, viewed 6 May 2023. \n",
    "https://medium.com/@dilip.voleti/classification-using-word2vec-b1d79d375381\n",
    "\n",
    "4. Kaggle 2020, *KNN Classifier Tutorial*, viewed 6 May 2023.\n",
    "https://www.kaggle.com/code/prashant111/knn-classifier-tutorial\n",
    "\n",
    "5. Jurafsky, D., James H. M. (2023). Speech and Language Processing (3rd ed. draft), available <a href=\"https://web.stanford.edu/~jurafsky/slp3/\">here.</a>\n"
   ]
  }
 ],
 "metadata": {
  "kernelspec": {
   "display_name": "Python 3",
   "language": "python",
   "name": "python3"
  },
  "language_info": {
   "codemirror_mode": {
    "name": "ipython",
    "version": 3
   },
   "file_extension": ".py",
   "mimetype": "text/x-python",
   "name": "python",
   "nbconvert_exporter": "python",
   "pygments_lexer": "ipython3",
   "version": "3.10.10"
  },
  "orig_nbformat": 4
 },
 "nbformat": 4,
 "nbformat_minor": 2
}
