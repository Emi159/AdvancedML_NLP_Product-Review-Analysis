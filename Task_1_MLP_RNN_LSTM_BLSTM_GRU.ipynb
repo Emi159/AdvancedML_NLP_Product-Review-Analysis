{
 "cells": [
  {
   "attachments": {},
   "cell_type": "markdown",
   "metadata": {},
   "source": [
    "# Neural Network-based Models"
   ]
  },
  {
   "attachments": {},
   "cell_type": "markdown",
   "metadata": {},
   "source": [
    "Importing relevant packages and libraries."
   ]
  },
  {
   "cell_type": "code",
   "execution_count": 57,
   "metadata": {},
   "outputs": [],
   "source": [
    "import warnings\n",
    "warnings.filterwarnings('ignore')\n",
    "warnings.simplefilter('ignore')\n",
    "import pandas as pd\n",
    "import nltk\n",
    "import numpy as np\n",
    "import matplotlib.pyplot as plt\n",
    "import sklearn\n",
    "from sklearn.feature_extraction.text import TfidfVectorizer\n",
    "import string\n",
    "from typing import List\n",
    "import math\n",
    "from sklearn.model_selection import train_test_split\n",
    "from sklearn.pipeline import Pipeline\n",
    "from sklearn.model_selection import KFold, GridSearchCV\n",
    "from sklearn.linear_model import LogisticRegression\n",
    "from sklearn.metrics import accuracy_score\n",
    "from keras.models import Sequential\n",
    "from keras.layers import Embedding, SimpleRNN, Dropout, Dense\n",
    "from keras.preprocessing.text import Tokenizer\n",
    "from keras.preprocessing import sequence \n",
    "from sklearn.model_selection import StratifiedKFold\n",
    "import tensorflow as tf\n",
    "from tensorflow.keras import layers, losses, optimizers\n",
    "from keras.wrappers.scikit_learn import KerasClassifier  \n",
    "from tensorflow.keras.layers import Embedding, GlobalAveragePooling1D, Dense, Dropout\n",
    "from keras.losses import MeanAbsoluteError\n",
    "from tensorflow.keras.models import Sequential\n",
    "from keras.layers import Embedding, SimpleRNN, Dense, Dropout\n",
    "from tensorflow.keras.preprocessing.sequence import pad_sequences\n",
    "from tensorflow.keras.callbacks import EarlyStopping\n",
    "from tensorflow.keras import layers, losses, optimizers\n",
    "from tensorflow.keras.models import load_model\n",
    "import pickle\n",
    "from keras.layers import LSTM\n",
    "from keras.wrappers.scikit_learn import KerasRegressor\n",
    "from sklearn.metrics import confusion_matrix"
   ]
  },
  {
   "attachments": {},
   "cell_type": "markdown",
   "metadata": {},
   "source": [
    "### 1. Downloading Data"
   ]
  },
  {
   "cell_type": "code",
   "execution_count": 58,
   "metadata": {},
   "outputs": [],
   "source": [
    "df_train = pd.read_csv(\"ATML2023_reviews_train.csv\")"
   ]
  },
  {
   "attachments": {},
   "cell_type": "markdown",
   "metadata": {},
   "source": [
    "Taking a look at the first two rows of the training data set."
   ]
  },
  {
   "cell_type": "code",
   "execution_count": 59,
   "metadata": {},
   "outputs": [
    {
     "data": {
      "text/html": [
       "<div>\n",
       "<style scoped>\n",
       "    .dataframe tbody tr th:only-of-type {\n",
       "        vertical-align: middle;\n",
       "    }\n",
       "\n",
       "    .dataframe tbody tr th {\n",
       "        vertical-align: top;\n",
       "    }\n",
       "\n",
       "    .dataframe thead th {\n",
       "        text-align: right;\n",
       "    }\n",
       "</style>\n",
       "<table border=\"1\" class=\"dataframe\">\n",
       "  <thead>\n",
       "    <tr style=\"text-align: right;\">\n",
       "      <th></th>\n",
       "      <th>Id</th>\n",
       "      <th>product_id</th>\n",
       "      <th>reviewer_id</th>\n",
       "      <th>rating</th>\n",
       "      <th>review_body</th>\n",
       "      <th>review_title</th>\n",
       "      <th>language</th>\n",
       "      <th>product_category</th>\n",
       "    </tr>\n",
       "  </thead>\n",
       "  <tbody>\n",
       "    <tr>\n",
       "      <th>0</th>\n",
       "      <td>0</td>\n",
       "      <td>pid_7930618</td>\n",
       "      <td>comment_user_0166666</td>\n",
       "      <td>5</td>\n",
       "      <td>Nice addition to my new kurig. Has kept coffee...</td>\n",
       "      <td>Keeps coffee hot for a long time</td>\n",
       "      <td>en</td>\n",
       "      <td>kitchen</td>\n",
       "    </tr>\n",
       "    <tr>\n",
       "      <th>1</th>\n",
       "      <td>1</td>\n",
       "      <td>pid_7750075</td>\n",
       "      <td>comment_user_0337482</td>\n",
       "      <td>2</td>\n",
       "      <td>The finger hole is small. Not suitable for a l...</td>\n",
       "      <td>Not adjustable</td>\n",
       "      <td>en</td>\n",
       "      <td>office_product</td>\n",
       "    </tr>\n",
       "  </tbody>\n",
       "</table>\n",
       "</div>"
      ],
      "text/plain": [
       "   Id   product_id           reviewer_id  rating   \n",
       "0   0  pid_7930618  comment_user_0166666       5  \\\n",
       "1   1  pid_7750075  comment_user_0337482       2   \n",
       "\n",
       "                                         review_body   \n",
       "0  Nice addition to my new kurig. Has kept coffee...  \\\n",
       "1  The finger hole is small. Not suitable for a l...   \n",
       "\n",
       "                       review_title language product_category  \n",
       "0  Keeps coffee hot for a long time       en          kitchen  \n",
       "1                    Not adjustable       en   office_product  "
      ]
     },
     "execution_count": 59,
     "metadata": {},
     "output_type": "execute_result"
    }
   ],
   "source": [
    "df_train.head(2)"
   ]
  },
  {
   "cell_type": "code",
   "execution_count": 60,
   "metadata": {},
   "outputs": [],
   "source": [
    "df_test = pd.read_csv(\"ATML2023_reviews_test.csv\")\n"
   ]
  },
  {
   "cell_type": "code",
   "execution_count": 61,
   "metadata": {},
   "outputs": [
    {
     "name": "stdout",
     "output_type": "stream",
     "text": [
      "Train: (164000, 8)\n",
      "Test: (41000, 7)\n"
     ]
    }
   ],
   "source": [
    "print(f\"Train: {df_train.shape}\")\n",
    "print(f\"Test: {df_test.shape}\")"
   ]
  },
  {
   "attachments": {},
   "cell_type": "markdown",
   "metadata": {},
   "source": [
    "There are a total of 164000 rows and 8 columns in the train set . There are a total of 41000 rows and 7 columns (excluding the response) in the test set."
   ]
  },
  {
   "attachments": {},
   "cell_type": "markdown",
   "metadata": {},
   "source": [
    "### 2. Data-Preprocessing"
   ]
  },
  {
   "attachments": {},
   "cell_type": "markdown",
   "metadata": {},
   "source": [
    "The `'review_title'` and `'review_body'` are combined together. The model performs better when the two columns are combined."
   ]
  },
  {
   "cell_type": "code",
   "execution_count": 62,
   "metadata": {},
   "outputs": [],
   "source": [
    "df_train['review_body'] = df_train['review_title'] + ' ' + df_train['review_body']"
   ]
  },
  {
   "cell_type": "code",
   "execution_count": 63,
   "metadata": {},
   "outputs": [],
   "source": [
    "df_test['review_body'] = df_test['review_title'] + ' ' + df_test['review_body']"
   ]
  },
  {
   "attachments": {},
   "cell_type": "markdown",
   "metadata": {},
   "source": [
    "NA's and duplicates are dropped and the index is reset in the train set. "
   ]
  },
  {
   "cell_type": "code",
   "execution_count": 64,
   "metadata": {},
   "outputs": [],
   "source": [
    "df_train = df_train.dropna().drop_duplicates().reset_index(drop=True)\n"
   ]
  },
  {
   "attachments": {},
   "cell_type": "markdown",
   "metadata": {},
   "source": [
    "Upper-cased words are lowered in both data sets."
   ]
  },
  {
   "cell_type": "code",
   "execution_count": 65,
   "metadata": {},
   "outputs": [],
   "source": [
    "df_train['review_body'] = df_train['review_body'].apply(lambda x: x.lower())\n"
   ]
  },
  {
   "cell_type": "code",
   "execution_count": 66,
   "metadata": {},
   "outputs": [],
   "source": [
    "df_test['review_body'] = df_test['review_body'].apply(lambda x: x.lower() if isinstance(x, str) else x)\n"
   ]
  },
  {
   "cell_type": "code",
   "execution_count": 67,
   "metadata": {},
   "outputs": [
    {
     "name": "stdout",
     "output_type": "stream",
     "text": [
      "Train: (163975, 8)\n",
      "Test: (41000, 7)\n"
     ]
    }
   ],
   "source": [
    "print(f\"Train: {df_train.shape}\")\n",
    "print(f\"Test: {df_test.shape}\")"
   ]
  },
  {
   "attachments": {},
   "cell_type": "markdown",
   "metadata": {},
   "source": [
    "The resulting shapes are 163975 rows and 8 columns in the train set and a total of 41000 rows and 7 columns (excluding the response) in the test set. "
   ]
  },
  {
   "attachments": {},
   "cell_type": "markdown",
   "metadata": {},
   "source": [
    "### 3. Getting text data"
   ]
  },
  {
   "attachments": {},
   "cell_type": "markdown",
   "metadata": {},
   "source": [
    "Rearranging the data for training."
   ]
  },
  {
   "cell_type": "code",
   "execution_count": 68,
   "metadata": {},
   "outputs": [],
   "source": [
    "text_data = df_train[['review_body', 'rating']]"
   ]
  },
  {
   "cell_type": "code",
   "execution_count": 69,
   "metadata": {},
   "outputs": [],
   "source": [
    "text_data_test=df_test['review_body'] "
   ]
  },
  {
   "attachments": {},
   "cell_type": "markdown",
   "metadata": {},
   "source": [
    "### 4. Splitting the Data"
   ]
  },
  {
   "attachments": {},
   "cell_type": "markdown",
   "metadata": {},
   "source": [
    "The training data set is split into test and training sets, to be able to evaluate the model. Here, we use test size = $20\\%$ which results in the same size as in test dataset"
   ]
  },
  {
   "cell_type": "code",
   "execution_count": 70,
   "metadata": {},
   "outputs": [
    {
     "name": "stdout",
     "output_type": "stream",
     "text": [
      "Train X set shape: (131180,)\n",
      "Test X set shape: (32795,)\n",
      "Train Y set shape: (131180,)\n",
      "Test Y set shape: (32795,)\n"
     ]
    }
   ],
   "source": [
    "# Split the data into train and test sets\n",
    "X_train,X_test,Y_train, Y_test = train_test_split(text_data['review_body'], text_data['rating'],test_size=0.2, random_state=977,shuffle=True)\n",
    "\n",
    "# Print the shapes of the train and test sets\n",
    "print(\"Train X set shape:\", X_train.shape)\n",
    "print(\"Test X set shape:\", X_test.shape)\n",
    "print(\"Train Y set shape:\", Y_train.shape)\n",
    "print(\"Test Y set shape:\", Y_test.shape)"
   ]
  },
  {
   "attachments": {},
   "cell_type": "markdown",
   "metadata": {},
   "source": [
    "The 'X_train' and 'X_test' data sets are converted to numpy."
   ]
  },
  {
   "cell_type": "code",
   "execution_count": 71,
   "metadata": {},
   "outputs": [],
   "source": [
    "X_train = X_train.to_numpy()"
   ]
  },
  {
   "cell_type": "code",
   "execution_count": 72,
   "metadata": {},
   "outputs": [],
   "source": [
    "text_data_test=text_data_test.to_numpy()"
   ]
  },
  {
   "cell_type": "code",
   "execution_count": 73,
   "metadata": {},
   "outputs": [],
   "source": [
    "X_test = X_test.to_numpy()"
   ]
  },
  {
   "attachments": {},
   "cell_type": "markdown",
   "metadata": {},
   "source": [
    "Both responses ('Y_train' and 'Y_test') are converted to integers."
   ]
  },
  {
   "cell_type": "code",
   "execution_count": 74,
   "metadata": {},
   "outputs": [
    {
     "data": {
      "text/plain": [
       "array([4, 2, 1, ..., 1, 1, 4])"
      ]
     },
     "execution_count": 74,
     "metadata": {},
     "output_type": "execute_result"
    }
   ],
   "source": [
    "Y_train= (np.array([int(label) for label in Y_train])).astype(int)\n",
    "Y_train"
   ]
  },
  {
   "cell_type": "code",
   "execution_count": 75,
   "metadata": {},
   "outputs": [
    {
     "data": {
      "text/plain": [
       "array([1, 3, 2, ..., 1, 2, 5])"
      ]
     },
     "execution_count": 75,
     "metadata": {},
     "output_type": "execute_result"
    }
   ],
   "source": [
    "Y_test= (np.array([int(label) for label in Y_test])).astype(int)\n",
    "Y_test"
   ]
  },
  {
   "attachments": {},
   "cell_type": "markdown",
   "metadata": {},
   "source": [
    "### 4. Model Fitting Preparation"
   ]
  },
  {
   "attachments": {},
   "cell_type": "markdown",
   "metadata": {},
   "source": [
    "Defining the vocabulary size and the number of words in a sequence."
   ]
  },
  {
   "cell_type": "code",
   "execution_count": 76,
   "metadata": {},
   "outputs": [],
   "source": [
    "max_vocab = 1000"
   ]
  },
  {
   "attachments": {},
   "cell_type": "markdown",
   "metadata": {},
   "source": [
    "`TextVectorization` is a preprocessing technique used to convert text data into numerical representations that can be used as input to machine learning models. Here, the `TextVectorization` layer is used from keras. The maximum number of tokens is defined as above. All words are lower-cased again and punctuation is stripped. The output of this layer is an integer. The layer is used to transform the 'X_train' data set.\n",
    "By specifying `\"max_vocab\"` and enabling the preprocessing step of lowering and stripping punctuation, `TextVectorization` ensures that the vocabulary is limited to a certain size (1000 words) and the text data is preprocessed consistently before tokenization. These settings help in controlling the dimensionality of the vectorized representation and can improve the efficiency and effectiveness of subsequent machine learning models trained on the vectorized data.\n"
   ]
  },
  {
   "cell_type": "code",
   "execution_count": 77,
   "metadata": {},
   "outputs": [],
   "source": [
    "vectorize_layer = layers.TextVectorization(max_tokens=max_vocab, standardize='lower_and_strip_punctuation',\n",
    "                                           output_mode='int', output_sequence_length=None)\n",
    "vectorize_layer.adapt(X_train)"
   ]
  },
  {
   "attachments": {},
   "cell_type": "markdown",
   "metadata": {},
   "source": [
    "Further parameters are defined to be used in the neural network-based models. The `EarlyStopping` callback is useful for preventing overfitting and saving computational resources by stopping training when the model's performance on the validation set starts to deteriorate. Here, we allow the model to stop if the validation loss does not improve within those 10 epochs, training will be stopped and the model will be returned with the weights that performed the best on the validation set."
   ]
  },
  {
   "cell_type": "code",
   "execution_count": 78,
   "metadata": {},
   "outputs": [],
   "source": [
    "patience = 10  # Number of epochs with no improvement after which training will be stopped\n",
    "monitor = 'val_loss'  # Metric to monitor for early stopping\n",
    "# Define the EarlyStopping callback\n",
    "early_stopping = EarlyStopping(monitor=monitor, patience=patience, restore_best_weights=True)"
   ]
  },
  {
   "attachments": {},
   "cell_type": "markdown",
   "metadata": {},
   "source": [
    "### 5. MLP Model"
   ]
  },
  {
   "attachments": {},
   "cell_type": "markdown",
   "metadata": {},
   "source": [
    "Multilayer Perceptrons (MLP) are a type of neural network commonly used for classification. They consist of simple input layers, hidden abstraction layers and output layers. MLP are considered a baseline neural network model and are easy to implement <a href=\"#ref\">(Brownlee 2022)</a>.\n",
    "\n",
    "Advantage and disagvantages of MLP model in sequential learning:\n",
    "\n",
    "Advantages:\n",
    "- Simple and easy to implement.\n",
    "- Effective for solving simple classification \n",
    "- Efficient training and prediction for small to medium-sized datasets.\n",
    "\n",
    "Disadvantages:\n",
    "- Limited ability to capture sequential or temporal dependencies in data.\n",
    "- Cannot handle variable-length input sequences.\n",
    "- Prone to overfitting when dealing with high-dimensional data.\n"
   ]
  },
  {
   "attachments": {},
   "cell_type": "markdown",
   "metadata": {},
   "source": [
    "### 5a. MLP Model + Hyperparameter Tuning"
   ]
  },
  {
   "attachments": {},
   "cell_type": "markdown",
   "metadata": {},
   "source": [
    "A sequential model is created as a function. The vectorization layer, defined above, is used as the inital layer. This is followed by an embedding layer, which outputs a vector with length 150, the initializer is defined as 'uniform'. Next, the data is passed through a `GlobalAveragePooling` layer. Then through a Dense, Dropout, Dense and final 'softmax' classification layer. \n",
    "\n",
    "A GridSearchCV is perform to tune the number of dense layers, the units of the dense layers and the dropout rate. Kfold is defined as 3."
   ]
  },
  {
   "cell_type": "code",
   "execution_count": 47,
   "metadata": {},
   "outputs": [
    {
     "name": "stdout",
     "output_type": "stream",
     "text": [
      "1367/1367 [==============================] - 3s 2ms/step\n",
      "1367/1367 [==============================] - 3s 2ms/step\n",
      "1367/1367 [==============================] - 3s 2ms/step\n",
      "1367/1367 [==============================] - 3s 2ms/step\n",
      "1367/1367 [==============================] - 3s 2ms/step\n",
      "1367/1367 [==============================] - 3s 2ms/step\n",
      "1367/1367 [==============================] - 3s 2ms/step\n",
      "1367/1367 [==============================] - 3s 2ms/step\n",
      "1367/1367 [==============================] - 3s 2ms/step\n",
      "1367/1367 [==============================] - 4s 3ms/step\n",
      "1367/1367 [==============================] - 3s 3ms/step\n",
      "1367/1367 [==============================] - 4s 3ms/step\n",
      "1367/1367 [==============================] - 3s 2ms/step\n",
      "1367/1367 [==============================] - 3s 2ms/step\n",
      "1367/1367 [==============================] - 3s 2ms/step\n",
      "1367/1367 [==============================] - 3s 2ms/step\n",
      "1367/1367 [==============================] - 3s 2ms/step\n",
      "1367/1367 [==============================] - 3s 2ms/step\n",
      "1367/1367 [==============================] - 3s 2ms/step\n",
      "1367/1367 [==============================] - 3s 2ms/step\n",
      "1367/1367 [==============================] - 3s 2ms/step\n",
      "1367/1367 [==============================] - 4s 3ms/step\n",
      "1367/1367 [==============================] - 4s 3ms/step\n",
      "1367/1367 [==============================] - 4s 3ms/step\n",
      "1367/1367 [==============================] - 3s 2ms/step\n",
      "1367/1367 [==============================] - 4s 3ms/step\n",
      "1367/1367 [==============================] - 3s 2ms/step\n",
      "1367/1367 [==============================] - 3s 2ms/step\n",
      "1367/1367 [==============================] - 3s 2ms/step\n",
      "1367/1367 [==============================] - 3s 2ms/step\n",
      "1367/1367 [==============================] - 3s 2ms/step\n",
      "1367/1367 [==============================] - 3s 2ms/step\n",
      "1367/1367 [==============================] - 3s 2ms/step\n",
      "1367/1367 [==============================] - 4s 3ms/step\n",
      "1367/1367 [==============================] - 3s 2ms/step\n",
      "1367/1367 [==============================] - 4s 3ms/step\n",
      "1367/1367 [==============================] - 3s 2ms/step\n",
      "1367/1367 [==============================] - 4s 3ms/step\n",
      "1367/1367 [==============================] - 4s 3ms/step\n",
      "1367/1367 [==============================] - 3s 2ms/step\n",
      "1367/1367 [==============================] - 3s 2ms/step\n",
      "1367/1367 [==============================] - 3s 2ms/step\n",
      "1367/1367 [==============================] - 3s 2ms/step\n",
      "1367/1367 [==============================] - 3s 2ms/step\n",
      "1367/1367 [==============================] - 3s 2ms/step\n",
      "1367/1367 [==============================] - 3s 2ms/step\n",
      "1367/1367 [==============================] - 3s 3ms/step\n",
      "1367/1367 [==============================] - 3s 3ms/step\n",
      "1367/1367 [==============================] - 4s 3ms/step\n",
      "1367/1367 [==============================] - 4s 3ms/step\n",
      "1367/1367 [==============================] - 4s 3ms/step\n",
      "1367/1367 [==============================] - 4s 3ms/step\n",
      "1367/1367 [==============================] - 4s 3ms/step\n",
      "1367/1367 [==============================] - 4s 3ms/step\n",
      "Best Parameters for MLP:  {'dropout_rate': 0.1, 'num_layers': 3, 'units': 128}\n",
      "Best Accuracy for MLP:  0.5523555262610061\n"
     ]
    }
   ],
   "source": [
    "# # Define the function to create the model\n",
    "# def MLP(num_layers=1, units=64, dropout_rate=0.1):\n",
    "#     model = Sequential([\n",
    "#         vectorize_layer,\n",
    "#         Embedding(input_dim=len(vectorize_layer.get_vocabulary()), output_dim=150, embeddings_initializer='uniform'),\n",
    "#         GlobalAveragePooling1D()\n",
    "#     ])\n",
    "#     for _ in range(num_layers):\n",
    "#         model.add(Dense(units=units, activation='relu'))\n",
    "#         model.add(Dropout(rate=dropout_rate))\n",
    "#     model.add(Dense(units=6, activation='softmax'))\n",
    "#     model.compile(optimizer=optimizers.Adam(), loss=losses.SparseCategoricalCrossentropy(from_logits=False), metrics=['accuracy'])\n",
    "#     return model\n",
    "\n",
    "# # Create KerasClassifier for grid search\n",
    "# modelMLP = KerasClassifier(build_fn=MLP)\n",
    "\n",
    "# # Set parameters for grid search\n",
    "# param_grid = {\n",
    "#     'num_layers': [1,2, 3],  # Number of dense layers\n",
    "#     'units': [32,64,128],  # Number of units in dense layers\n",
    "#     'dropout_rate': [0.1, 0.2], # Dropout rate for dense layers\n",
    "    \n",
    "# }\n",
    "# # Set parameters for cross-validation\n",
    "# cv = KFold(n_splits=3,random_state=977, shuffle=True).split(X_train,Y_train)\n",
    "# # Create grid search object\n",
    "# grid_search = GridSearchCV(estimator=modelMLP, param_grid=param_grid, scoring='accuracy', cv=cv, verbose=0)\n",
    "\n",
    "# # Fit the grid search to the data\n",
    "# grid_search.fit(X_train, Y_train, validation_data=(X_test, Y_test), batch_size=128, epochs=150,callbacks=[early_stopping],verbose=0)\n",
    "\n",
    "# # Extract best parameters and accuracy\n",
    "# best_params = grid_search.best_params_\n",
    "# best_accuracy = grid_search.best_score_\n",
    "# print(\"Best Parameters for MLP: \", best_params)\n",
    "# print(\"Best Accuracy for MLP: \", best_accuracy)\n"
   ]
  },
  {
   "attachments": {},
   "cell_type": "markdown",
   "metadata": {},
   "source": [
    "The best parameters result to be a dropout rate of 0.1, 3 dense layers and dense layer units of 128."
   ]
  },
  {
   "attachments": {},
   "cell_type": "markdown",
   "metadata": {},
   "source": [
    "### 5b. MLP"
   ]
  },
  {
   "attachments": {},
   "cell_type": "markdown",
   "metadata": {},
   "source": [
    "The best parameters from the previous step are implemented in the final model. The model is run for 150 epochs."
   ]
  },
  {
   "cell_type": "code",
   "execution_count": 55,
   "metadata": {},
   "outputs": [],
   "source": [
    "MLP_model = Sequential([\n",
    "    vectorize_layer,\n",
    "    layers.Embedding(input_dim=len(vectorize_layer.get_vocabulary()), output_dim=150,\n",
    "                     embeddings_initializer='uniform'),\n",
    "    layers.GlobalAveragePooling1D(),\n",
    "    \n",
    "    layers.Dense(128, activation='relu'),\n",
    "    layers.Dropout(0.1),\n",
    "    layers.Dense(128, activation='relu'),\n",
    "    layers.Dropout(0.1),\n",
    "    layers.Dense(128, activation='relu'),\n",
    "    layers.Dropout(0.1),\n",
    "   \n",
    "    layers.Dense(6, activation='softmax')\n",
    "], name=\"MLP_model\")\n",
    "\n",
    "MLP_model.compile(optimizer=optimizers.Adam(),\n",
    "                  #loss= tf.losses.Huber(),\n",
    "                  #metrics=['mae'])\n",
    "                  loss=losses.SparseCategoricalCrossentropy(from_logits=False), \n",
    "                  metrics=['accuracy'])\n",
    "epochs = 150\n",
    "history_MLP = MLP_model.fit(X_train, Y_train, validation_data=(X_test,Y_test),\n",
    "                            batch_size=128, epochs=epochs,callbacks=[early_stopping],verbose=0)\n",
    "\n",
    "\n"
   ]
  },
  {
   "cell_type": "code",
   "execution_count": 58,
   "metadata": {},
   "outputs": [
    {
     "name": "stderr",
     "output_type": "stream",
     "text": [
      "WARNING:absl:Found untraced functions such as _update_step_xla while saving (showing 1 of 1). These functions will not be directly callable after loading.\n"
     ]
    },
    {
     "name": "stdout",
     "output_type": "stream",
     "text": [
      "INFO:tensorflow:Assets written to: MLP_model_tunning\\assets\n"
     ]
    },
    {
     "name": "stderr",
     "output_type": "stream",
     "text": [
      "INFO:tensorflow:Assets written to: MLP_model_tunning\\assets\n"
     ]
    }
   ],
   "source": [
    "# Save the entire model as TensorFlow format\n",
    "MLP_model.save('MLP_model_tunning', save_format='tf')"
   ]
  },
  {
   "cell_type": "code",
   "execution_count": 20,
   "metadata": {},
   "outputs": [],
   "source": [
    "MLP_model_tunning = load_model('MLP_model_tunning')\n"
   ]
  },
  {
   "cell_type": "code",
   "execution_count": 21,
   "metadata": {},
   "outputs": [
    {
     "name": "stdout",
     "output_type": "stream",
     "text": [
      "1025/1025 [==============================] - 3s 2ms/step - loss: 0.9637 - accuracy: 0.5880\n"
     ]
    }
   ],
   "source": [
    "# _,accuracy = MLP_model_tunning.evaluate(X_test, Y_test)\n"
   ]
  },
  {
   "attachments": {},
   "cell_type": "markdown",
   "metadata": {},
   "source": [
    "The final test accuracy is 0.5880. "
   ]
  },
  {
   "attachments": {},
   "cell_type": "markdown",
   "metadata": {},
   "source": [
    "### 4. RNN"
   ]
  },
  {
   "attachments": {},
   "cell_type": "markdown",
   "metadata": {},
   "source": [
    "The next model considered is a Recurrent Neural Network. These are commonly used in NLP, however, they are difficult to train and implement. RNNs form the basis for more complex models, such as LSTMs, which is why they are implemented next. RNN model cycles through its layers, so each layer will depend on its own earlier input and output values <a href=\"#ref\">(Jurasky et al)</a>.\n",
    "\n",
    "Advantages and disadvantages of RNN:\n",
    "\n",
    "Advantages:\n",
    "- Can handle sequential and temporal data with variable-length input sequences.\n",
    "- Captures dependencies and context information through recurrent connections.\n",
    "- Effective in tasks such as language modeling, speech recognition, and time series forecasting.\n",
    "\n",
    "Disadvantages:\n",
    "- Gradient vanishing and exploding problems, which affect the learning of long-term dependencies.\n",
    "- Sequential nature limits parallelization during training.\n",
    "- Difficulty in capturing very long-term dependencies.\n"
   ]
  },
  {
   "attachments": {},
   "cell_type": "markdown",
   "metadata": {},
   "source": [
    "Defining model parameters which will be used in the model."
   ]
  },
  {
   "cell_type": "code",
   "execution_count": 79,
   "metadata": {},
   "outputs": [],
   "source": [
    "rnn_units = 128\n",
    "dropout_rate = 0.1\n",
    "embedding_dim = 150\n",
    "num_epochs = 100\n",
    "num_classes = 6\n",
    "batch_size = 128\n",
    "num_rnn_layers = 3"
   ]
  },
  {
   "attachments": {},
   "cell_type": "markdown",
   "metadata": {},
   "source": [
    "The RNN is implemented as a sequential model consisting of the vectorization layer (defined above), an embedding layer, three SimpleRNN layers, a Dropout and a Dense layer with 'soft-max' optimization. Details are provided below."
   ]
  },
  {
   "cell_type": "code",
   "execution_count": 31,
   "metadata": {},
   "outputs": [],
   "source": [
    "# Create RNN model\n",
    "modelRNN = Sequential([\n",
    "    vectorize_layer,\n",
    "    # Add vectorize_layer here if it's a part of the model architecture\n",
    "    Embedding(input_dim=len(vectorize_layer.get_vocabulary()), output_dim=embedding_dim, embeddings_initializer='uniform', mask_zero=True),\n",
    "    # Add 1st layer\n",
    "    SimpleRNN(units=rnn_units, activation='relu', return_sequences=True),  # RNN layer with 150 hidden units\n",
    "\n",
    "    # Add additional RNN layers\n",
    "    *[SimpleRNN(units=rnn_units, activation='relu', return_sequences=True) for _ in range(num_rnn_layers-2)],\n",
    "    Dropout(rate=dropout_rate),\n",
    "\n",
    "    # Add last RNN layer\n",
    "    SimpleRNN(units=rnn_units, activation='relu', return_sequences=False),  # RNN layer with 150 hidden units, no need to return sequences for the final layer\n",
    "    Dropout(rate=dropout_rate),  # Dropout layer with 0.1 dropout rate\n",
    "\n",
    "    Dense(units=num_classes, activation='softmax')  # Dense layer with Softmax activation for predicting 5 classes\n",
    "])\n",
    "\n",
    "# Compile the model\n",
    "modelRNN.compile(optimizer='adam', loss=losses.SparseCategoricalCrossentropy(from_logits=False), metrics=['accuracy'])"
   ]
  },
  {
   "attachments": {},
   "cell_type": "markdown",
   "metadata": {},
   "source": [
    "The model is trained and evaluated on the test sets."
   ]
  },
  {
   "cell_type": "code",
   "execution_count": null,
   "metadata": {},
   "outputs": [],
   "source": [
    "# Train the model\n",
    "history = modelRNN.fit(X_train, Y_train, epochs=num_epochs, batch_size=batch_size, callbacks=[early_stopping], validation_data=(X_test, Y_test),verbose=0)\n",
    "\n",
    "# Extract accuracy on train set\n",
    "train_accuracy = history.history['accuracy']"
   ]
  },
  {
   "cell_type": "code",
   "execution_count": 32,
   "metadata": {},
   "outputs": [
    {
     "data": {
      "text/plain": [
       "<tensorflow.python.checkpoint.checkpoint.CheckpointLoadStatus at 0x15c722c82d0>"
      ]
     },
     "execution_count": 32,
     "metadata": {},
     "output_type": "execute_result"
    }
   ],
   "source": [
    "modelRNN.load_weights(\"RNN_model1_tunning\")\n"
   ]
  },
  {
   "cell_type": "code",
   "execution_count": 33,
   "metadata": {},
   "outputs": [
    {
     "name": "stdout",
     "output_type": "stream",
     "text": [
      "1025/1025 [==============================] - 39s 37ms/step - loss: 0.9629 - accuracy: 0.5805\n"
     ]
    }
   ],
   "source": [
    "#_, accuracyRNN = modelRNN.evaluate(X_test, Y_test)\n"
   ]
  },
  {
   "attachments": {},
   "cell_type": "markdown",
   "metadata": {},
   "source": [
    "This model provides an accuracy of 0.5805, slightly worse than the MLP model. RNN models do not perform very well on large data sets because of the problem of vanishing gradients. This might explain its poor result in comparison to the MLP <a href=\"#ref\">(Jurasky et al)</a>."
   ]
  },
  {
   "attachments": {},
   "cell_type": "markdown",
   "metadata": {},
   "source": [
    "### 4. LSTM"
   ]
  },
  {
   "attachments": {},
   "cell_type": "markdown",
   "metadata": {},
   "source": [
    "Long Short-Term Memory (LSTM) models, are extentions to simple RNN models. This is a more complex model designed to maintain relevant context over time, and thus avoiding the problem of vanishing gradients. The LSTM removes contextual information no longer needed and keeps information which might be needed for future decision-making. This is acheived by including a context layer to the model architecture, in addition to the recurrent neural network layers and through the use of 'gates' which control the flow of information into and out of each unit. All of the 'gates' consist of a feedforward layer, followed by a sigmoid activation function. Values corresponding to 1 from the sigmoid function are kept, and those corresponding to 0 are removed <a href=\"#ref\">(Jurasky et al)</a>.\n",
    "\n",
    "\n",
    "Advantages:\n",
    "- Overcomes the gradient vanishing and exploding problems of traditional RNNs.\n",
    "- Captures long-term dependencies in sequential data.\n",
    "- Handles variable-length input sequences.\n",
    "- Effective in tasks requiring modeling of long-term dependencies, such as language translation and sentiment analysis.\n",
    "\n",
    "Disadvantages:\n",
    "- More complex architecture compared to traditional RNNs.\n",
    "- Requires more computational resources and training time.\n",
    "- May overfit on small datasets if not properly regularized.\n",
    "- Performance is highly depends on hyper parameters.\n"
   ]
  },
  {
   "attachments": {},
   "cell_type": "markdown",
   "metadata": {},
   "source": [
    "The LSTM model is defined as a sequential model with the vectorization layer (defined above), an embedding, LSTM, Dense and 'soft-max' layers. Please see details below."
   ]
  },
  {
   "cell_type": "code",
   "execution_count": 35,
   "metadata": {},
   "outputs": [],
   "source": [
    "LSTM_model = tf.keras.Sequential([\n",
    "    vectorize_layer,\n",
    "    layers.Embedding(input_dim=len(vectorize_layer.get_vocabulary()), output_dim=embedding_dim,\n",
    "                     embeddings_initializer='uniform', mask_zero=True),\n",
    "    layers.LSTM(128),\n",
    "    layers.Dense(128, activation='relu'),\n",
    "    layers.Dense(num_classes, activation='softmax')\n",
    "], name=\"LSTM_model\")"
   ]
  },
  {
   "attachments": {},
   "cell_type": "markdown",
   "metadata": {},
   "source": [
    "The model is then compiled."
   ]
  },
  {
   "cell_type": "code",
   "execution_count": 36,
   "metadata": {},
   "outputs": [],
   "source": [
    "LSTM_model.compile(optimizer=optimizers.Adam(learning_rate=1e-4),\n",
    "                    loss=losses.SparseCategoricalCrossentropy(from_logits=False),\n",
    "                    metrics=['accuracy'])"
   ]
  },
  {
   "attachments": {},
   "cell_type": "markdown",
   "metadata": {},
   "source": [
    "It is programmed to train for 100 epochs, however, an early stopping mechanism is defined as well."
   ]
  },
  {
   "cell_type": "code",
   "execution_count": 72,
   "metadata": {},
   "outputs": [
    {
     "name": "stdout",
     "output_type": "stream",
     "text": [
      "Epoch 1/100\n",
      "1025/1025 [==============================] - 1074s 1s/step - loss: 1.2817 - accuracy: 0.4269 - val_loss: 1.0471 - val_accuracy: 0.5519\n",
      "Epoch 2/100\n",
      "1025/1025 [==============================] - 981s 957ms/step - loss: 1.0196 - accuracy: 0.5631 - val_loss: 0.9991 - val_accuracy: 0.5730\n",
      "Epoch 3/100\n",
      "1025/1025 [==============================] - 980s 957ms/step - loss: 0.9912 - accuracy: 0.5769 - val_loss: 1.0022 - val_accuracy: 0.5705\n",
      "Epoch 4/100\n",
      "1025/1025 [==============================] - 916s 893ms/step - loss: 0.9766 - accuracy: 0.5813 - val_loss: 0.9766 - val_accuracy: 0.5832\n",
      "Epoch 5/100\n",
      "1025/1025 [==============================] - 918s 896ms/step - loss: 0.9642 - accuracy: 0.5859 - val_loss: 0.9669 - val_accuracy: 0.5832\n",
      "Epoch 6/100\n",
      "1025/1025 [==============================] - 944s 921ms/step - loss: 0.9540 - accuracy: 0.5880 - val_loss: 0.9634 - val_accuracy: 0.5853\n",
      "Epoch 7/100\n",
      "1025/1025 [==============================] - 923s 901ms/step - loss: 0.9452 - accuracy: 0.5896 - val_loss: 0.9488 - val_accuracy: 0.5900\n",
      "Epoch 8/100\n",
      "1025/1025 [==============================] - 949s 926ms/step - loss: 0.9381 - accuracy: 0.5924 - val_loss: 0.9452 - val_accuracy: 0.5927\n",
      "Epoch 9/100\n",
      "1025/1025 [==============================] - 1026s 1s/step - loss: 0.9324 - accuracy: 0.5949 - val_loss: 0.9593 - val_accuracy: 0.5857\n",
      "Epoch 10/100\n",
      "1025/1025 [==============================] - 1021s 996ms/step - loss: 0.9276 - accuracy: 0.5963 - val_loss: 0.9410 - val_accuracy: 0.5935\n",
      "Epoch 11/100\n",
      "1025/1025 [==============================] - 1046s 1s/step - loss: 0.9229 - accuracy: 0.5985 - val_loss: 0.9391 - val_accuracy: 0.5947\n",
      "Epoch 12/100\n",
      "1025/1025 [==============================] - 1065s 1s/step - loss: 0.9194 - accuracy: 0.5993 - val_loss: 0.9329 - val_accuracy: 0.5963\n",
      "Epoch 13/100\n",
      "1025/1025 [==============================] - 1236s 1s/step - loss: 0.9152 - accuracy: 0.6021 - val_loss: 0.9353 - val_accuracy: 0.5952\n",
      "Epoch 14/100\n",
      "1025/1025 [==============================] - 1006s 982ms/step - loss: 0.9096 - accuracy: 0.6055 - val_loss: 0.9282 - val_accuracy: 0.5970\n",
      "Epoch 15/100\n",
      "1025/1025 [==============================] - 1015s 991ms/step - loss: 0.9059 - accuracy: 0.6067 - val_loss: 0.9325 - val_accuracy: 0.5965\n",
      "Epoch 16/100\n",
      "1025/1025 [==============================] - 1031s 1s/step - loss: 0.9022 - accuracy: 0.6094 - val_loss: 0.9305 - val_accuracy: 0.5982\n",
      "Epoch 17/100\n",
      "1025/1025 [==============================] - 1014s 990ms/step - loss: 0.8985 - accuracy: 0.6095 - val_loss: 0.9312 - val_accuracy: 0.5969\n",
      "Epoch 18/100\n",
      "1025/1025 [==============================] - 1057s 1s/step - loss: 0.8966 - accuracy: 0.6114 - val_loss: 0.9254 - val_accuracy: 0.6001\n",
      "Epoch 19/100\n",
      "1025/1025 [==============================] - 972s 949ms/step - loss: 0.8933 - accuracy: 0.6115 - val_loss: 0.9250 - val_accuracy: 0.6002\n",
      "Epoch 20/100\n",
      "1025/1025 [==============================] - 975s 951ms/step - loss: 0.8912 - accuracy: 0.6122 - val_loss: 0.9273 - val_accuracy: 0.5988\n",
      "Epoch 21/100\n",
      "1025/1025 [==============================] - 1073s 1s/step - loss: 0.8877 - accuracy: 0.6147 - val_loss: 0.9226 - val_accuracy: 0.5991\n",
      "Epoch 22/100\n",
      "1025/1025 [==============================] - 1033s 1s/step - loss: 0.8851 - accuracy: 0.6157 - val_loss: 0.9234 - val_accuracy: 0.6001\n",
      "Epoch 23/100\n",
      "1025/1025 [==============================] - 998s 973ms/step - loss: 0.8829 - accuracy: 0.6166 - val_loss: 0.9337 - val_accuracy: 0.5961\n",
      "Epoch 24/100\n",
      "1025/1025 [==============================] - 1015s 990ms/step - loss: 0.8806 - accuracy: 0.6169 - val_loss: 0.9270 - val_accuracy: 0.5999\n",
      "Epoch 25/100\n",
      "1025/1025 [==============================] - 1025s 1s/step - loss: 0.8781 - accuracy: 0.6183 - val_loss: 0.9232 - val_accuracy: 0.5998\n",
      "Epoch 26/100\n",
      "1025/1025 [==============================] - 1079s 1s/step - loss: 0.8754 - accuracy: 0.6204 - val_loss: 0.9211 - val_accuracy: 0.6025\n",
      "Epoch 27/100\n",
      "1025/1025 [==============================] - 1063s 1s/step - loss: 0.8741 - accuracy: 0.6207 - val_loss: 0.9200 - val_accuracy: 0.6027\n",
      "Epoch 28/100\n",
      "1025/1025 [==============================] - 1026s 1s/step - loss: 0.8710 - accuracy: 0.6213 - val_loss: 0.9255 - val_accuracy: 0.5999\n",
      "Epoch 29/100\n",
      "1025/1025 [==============================] - 1020s 996ms/step - loss: 0.8686 - accuracy: 0.6227 - val_loss: 0.9262 - val_accuracy: 0.5998\n",
      "Epoch 30/100\n",
      "1025/1025 [==============================] - 1060s 1s/step - loss: 0.8661 - accuracy: 0.6249 - val_loss: 0.9220 - val_accuracy: 0.6012\n",
      "Epoch 31/100\n",
      "1025/1025 [==============================] - 1104s 1s/step - loss: 0.8629 - accuracy: 0.6255 - val_loss: 0.9271 - val_accuracy: 0.6008\n",
      "Epoch 32/100\n",
      "1025/1025 [==============================] - 1095s 1s/step - loss: 0.8623 - accuracy: 0.6259 - val_loss: 0.9222 - val_accuracy: 0.6012\n",
      "Epoch 33/100\n",
      "1025/1025 [==============================] - 1045s 1s/step - loss: 0.8600 - accuracy: 0.6280 - val_loss: 0.9223 - val_accuracy: 0.6002\n",
      "Epoch 34/100\n",
      "1025/1025 [==============================] - 1019s 995ms/step - loss: 0.8557 - accuracy: 0.6292 - val_loss: 0.9208 - val_accuracy: 0.6024\n",
      "Epoch 35/100\n",
      "1025/1025 [==============================] - 1103s 1s/step - loss: 0.8533 - accuracy: 0.6306 - val_loss: 0.9254 - val_accuracy: 0.6008\n",
      "Epoch 36/100\n",
      "1025/1025 [==============================] - 1135s 1s/step - loss: 0.8522 - accuracy: 0.6301 - val_loss: 0.9232 - val_accuracy: 0.5998\n",
      "Epoch 37/100\n",
      "1025/1025 [==============================] - 1092s 1s/step - loss: 0.8488 - accuracy: 0.6319 - val_loss: 0.9212 - val_accuracy: 0.6021\n"
     ]
    }
   ],
   "source": [
    "# history_lstm = LSTM_model.fit(X_train, Y_train, validation_data=(X_test, Y_test),\n",
    "#                                batch_size=128, epochs=num_epochs, callbacks=[early_stopping])\n",
    "\n"
   ]
  },
  {
   "attachments": {},
   "cell_type": "markdown",
   "metadata": {},
   "source": [
    "The model ran for 37 epochs, at which point its accuracy no longer improved (which is why it stopped)."
   ]
  },
  {
   "cell_type": "code",
   "execution_count": 37,
   "metadata": {},
   "outputs": [
    {
     "data": {
      "text/plain": [
       "<tensorflow.python.checkpoint.checkpoint.CheckpointLoadStatus at 0x15c723e1110>"
      ]
     },
     "execution_count": 37,
     "metadata": {},
     "output_type": "execute_result"
    }
   ],
   "source": [
    "LSTM_model.load_weights(\"./Modelfit/LSTM\")\n"
   ]
  },
  {
   "cell_type": "code",
   "execution_count": 38,
   "metadata": {},
   "outputs": [
    {
     "name": "stdout",
     "output_type": "stream",
     "text": [
      "1025/1025 [==============================] - 47s 45ms/step - loss: 0.9200 - accuracy: 0.6027\n"
     ]
    }
   ],
   "source": [
    "_,accuracyLSTM= LSTM_model.evaluate(X_test,Y_test)"
   ]
  },
  {
   "attachments": {},
   "cell_type": "markdown",
   "metadata": {},
   "source": [
    "The test accuracy on the LSTM is better than that from the previous models (0.6027). This result is expected, since there is a more complex model architecture which avoids the problem of vanishing gradients."
   ]
  },
  {
   "attachments": {},
   "cell_type": "markdown",
   "metadata": {},
   "source": [
    "### 5. Bidirectional LSTM"
   ]
  },
  {
   "attachments": {},
   "cell_type": "markdown",
   "metadata": {},
   "source": [
    "The Bidirectional LSTM (an extention to the normal LSTM model) consists of two LSTM layers; one taking the input in a forward direction and another taking the input in a backwards direction. This model architecture increases the amount of information and 'context' available to the model. It models the sequential dependencies in a text in both directions <a href=\"#ref\">(Medium 2022)</a>.\n",
    "\n",
    "Advantages:\n",
    "- Captures dependencies from both past and future contexts.\n",
    "- Incorporates a wider range of information for prediction.\n",
    "- Well-suited for tasks that require a comprehensive understanding of the input sequence.\n",
    "\n",
    "Disadvantages:\n",
    "- Increased computational complexity due to processing in both directions.\n",
    "- Requires more memory compared to unidirectional LSTMs.\n",
    "- May not be necessary for tasks where future context is irrelevant.\n",
    "This BLSTM model consists of 8 layers. The first is an embedding layer, which is then followed by the 2 bidirectional LSTM layers. Then two sets of Dense and Dropout layers have been added, followed by the final Dense layer with a 'softmax' activation which is responsible for final classification. "
   ]
  },
  {
   "cell_type": "code",
   "execution_count": 52,
   "metadata": {},
   "outputs": [],
   "source": [
    "BLSTM_model = tf.keras.Sequential([\n",
    "    vectorize_layer,\n",
    "    layers.Embedding(input_dim=len(vectorize_layer.get_vocabulary()), output_dim=embedding_dim,\n",
    "                     embeddings_initializer='uniform', mask_zero=True),\n",
    "    layers.Bidirectional(layers.LSTM(64,  return_sequences=True), merge_mode='concat'),\n",
    "    layers.Bidirectional(layers.LSTM(32,  return_sequences=False), merge_mode='concat'),\n",
    "    layers.Dense(64, activation='relu'),\n",
    "    layers.Dropout(0.1),\n",
    "    layers.Dense(32, activation='relu'),\n",
    "    layers.Dropout(0.1),\n",
    "    layers.Dense(num_classes, activation='softmax')\n",
    "], name=\"BLSTM_model\")"
   ]
  },
  {
   "attachments": {},
   "cell_type": "markdown",
   "metadata": {},
   "source": [
    "The defined model is compiled with an Adam optimizer, a relatively slow learning rate, the `SparseCategoricalCrossentropy` loss function, which computes the crossentropy loss between the labels and predictions and is appropriate for models with multiple classes, and 'accuracy' as the metrics. `SparseCategoricalCrossentropy` is also an appropriate loss function when multiple classes are coded as integers, as opposed to one-hot matrix. Relatively slow learning rate is beneficial with complex models, in order to allow the model to gradually converge towards the optimal parameters. It thus allows smoother convergence and better estimates the gradient."
   ]
  },
  {
   "cell_type": "code",
   "execution_count": 53,
   "metadata": {},
   "outputs": [],
   "source": [
    "BLSTM_model.compile(optimizer=tf.keras.optimizers.legacy.Adam(learning_rate=1e-4),\n",
    "                    loss=losses.SparseCategoricalCrossentropy(from_logits=False),\n",
    "                    metrics=['accuracy'])"
   ]
  },
  {
   "attachments": {},
   "cell_type": "markdown",
   "metadata": {},
   "source": [
    "Again the model is fit for 100 epochs with early stopping."
   ]
  },
  {
   "cell_type": "code",
   "execution_count": 30,
   "metadata": {},
   "outputs": [
    {
     "name": "stdout",
     "output_type": "stream",
     "text": [
      "Epoch 1/100\n",
      "1025/1025 [==============================] - 547s 529ms/step - loss: 1.3437 - accuracy: 0.4058 - val_loss: 1.0470 - val_accuracy: 0.5583\n",
      "Epoch 2/100\n",
      "1025/1025 [==============================] - 550s 537ms/step - loss: 1.0461 - accuracy: 0.5566 - val_loss: 0.9878 - val_accuracy: 0.5801\n",
      "Epoch 3/100\n",
      "1025/1025 [==============================] - 571s 557ms/step - loss: 0.9994 - accuracy: 0.5747 - val_loss: 0.9681 - val_accuracy: 0.5861\n",
      "Epoch 4/100\n",
      "1025/1025 [==============================] - 567s 553ms/step - loss: 0.9769 - accuracy: 0.5822 - val_loss: 0.9542 - val_accuracy: 0.5875\n",
      "Epoch 5/100\n",
      "1025/1025 [==============================] - 570s 556ms/step - loss: 0.9610 - accuracy: 0.5866 - val_loss: 0.9498 - val_accuracy: 0.5903\n",
      "Epoch 6/100\n",
      "1025/1025 [==============================] - 588s 574ms/step - loss: 0.9484 - accuracy: 0.5911 - val_loss: 0.9416 - val_accuracy: 0.5928\n",
      "Epoch 7/100\n",
      "1025/1025 [==============================] - 571s 557ms/step - loss: 0.9398 - accuracy: 0.5947 - val_loss: 0.9494 - val_accuracy: 0.5900\n",
      "Epoch 8/100\n",
      "1025/1025 [==============================] - 575s 561ms/step - loss: 0.9327 - accuracy: 0.5979 - val_loss: 0.9335 - val_accuracy: 0.5966\n",
      "Epoch 9/100\n",
      "1025/1025 [==============================] - 576s 563ms/step - loss: 0.9264 - accuracy: 0.5992 - val_loss: 0.9322 - val_accuracy: 0.5950\n",
      "Epoch 10/100\n",
      "1025/1025 [==============================] - 587s 573ms/step - loss: 0.9214 - accuracy: 0.6023 - val_loss: 0.9277 - val_accuracy: 0.5989\n",
      "Epoch 11/100\n",
      "1025/1025 [==============================] - 575s 561ms/step - loss: 0.9152 - accuracy: 0.6053 - val_loss: 0.9229 - val_accuracy: 0.6010\n",
      "Epoch 12/100\n",
      "1025/1025 [==============================] - 589s 575ms/step - loss: 0.9104 - accuracy: 0.6071 - val_loss: 0.9198 - val_accuracy: 0.6005\n",
      "Epoch 13/100\n",
      "1025/1025 [==============================] - 589s 575ms/step - loss: 0.9057 - accuracy: 0.6088 - val_loss: 0.9202 - val_accuracy: 0.5994\n",
      "Epoch 14/100\n",
      "1025/1025 [==============================] - 581s 567ms/step - loss: 0.9002 - accuracy: 0.6104 - val_loss: 0.9175 - val_accuracy: 0.6026\n",
      "Epoch 15/100\n",
      "1025/1025 [==============================] - 573s 559ms/step - loss: 0.8957 - accuracy: 0.6128 - val_loss: 0.9135 - val_accuracy: 0.6016\n",
      "Epoch 16/100\n",
      "1025/1025 [==============================] - 587s 572ms/step - loss: 0.8919 - accuracy: 0.6150 - val_loss: 0.9136 - val_accuracy: 0.6034\n",
      "Epoch 17/100\n",
      "1025/1025 [==============================] - 590s 575ms/step - loss: 0.8877 - accuracy: 0.6156 - val_loss: 0.9130 - val_accuracy: 0.6015\n",
      "Epoch 18/100\n",
      "1025/1025 [==============================] - 594s 579ms/step - loss: 0.8844 - accuracy: 0.6178 - val_loss: 0.9116 - val_accuracy: 0.6045\n",
      "Epoch 19/100\n",
      "1025/1025 [==============================] - 591s 576ms/step - loss: 0.8789 - accuracy: 0.6210 - val_loss: 0.9111 - val_accuracy: 0.6026\n",
      "Epoch 20/100\n",
      "1025/1025 [==============================] - 581s 567ms/step - loss: 0.8757 - accuracy: 0.6210 - val_loss: 0.9101 - val_accuracy: 0.6039\n",
      "Epoch 21/100\n",
      "1025/1025 [==============================] - 578s 563ms/step - loss: 0.8718 - accuracy: 0.6238 - val_loss: 0.9091 - val_accuracy: 0.6053\n",
      "Epoch 22/100\n",
      "1025/1025 [==============================] - 582s 568ms/step - loss: 0.8682 - accuracy: 0.6257 - val_loss: 0.9061 - val_accuracy: 0.6073\n",
      "Epoch 23/100\n",
      "1025/1025 [==============================] - 570s 556ms/step - loss: 0.8656 - accuracy: 0.6263 - val_loss: 0.9086 - val_accuracy: 0.6035\n",
      "Epoch 24/100\n",
      "1025/1025 [==============================] - 560s 546ms/step - loss: 0.8604 - accuracy: 0.6283 - val_loss: 0.9276 - val_accuracy: 0.5999\n",
      "Epoch 25/100\n",
      "1025/1025 [==============================] - 564s 551ms/step - loss: 0.8583 - accuracy: 0.6286 - val_loss: 0.9067 - val_accuracy: 0.6059\n",
      "Epoch 26/100\n",
      "1025/1025 [==============================] - 576s 563ms/step - loss: 0.8541 - accuracy: 0.6306 - val_loss: 0.9091 - val_accuracy: 0.6069\n",
      "Epoch 27/100\n",
      "1025/1025 [==============================] - 573s 559ms/step - loss: 0.8508 - accuracy: 0.6330 - val_loss: 0.9065 - val_accuracy: 0.6049\n",
      "Epoch 28/100\n",
      "1025/1025 [==============================] - 575s 561ms/step - loss: 0.8468 - accuracy: 0.6343 - val_loss: 0.9058 - val_accuracy: 0.6048\n",
      "Epoch 29/100\n",
      "1025/1025 [==============================] - 585s 571ms/step - loss: 0.8438 - accuracy: 0.6356 - val_loss: 0.9095 - val_accuracy: 0.6048\n",
      "Epoch 30/100\n",
      "1025/1025 [==============================] - 593s 578ms/step - loss: 0.8412 - accuracy: 0.6358 - val_loss: 0.9068 - val_accuracy: 0.6053\n",
      "Epoch 31/100\n",
      "1025/1025 [==============================] - 574s 560ms/step - loss: 0.8372 - accuracy: 0.6377 - val_loss: 0.9114 - val_accuracy: 0.6043\n",
      "Epoch 32/100\n",
      "1025/1025 [==============================] - 574s 560ms/step - loss: 0.8334 - accuracy: 0.6397 - val_loss: 0.9088 - val_accuracy: 0.6051\n",
      "Epoch 33/100\n",
      "1025/1025 [==============================] - 586s 572ms/step - loss: 0.8308 - accuracy: 0.6419 - val_loss: 0.9100 - val_accuracy: 0.6036\n",
      "Epoch 34/100\n",
      "1025/1025 [==============================] - 582s 569ms/step - loss: 0.8278 - accuracy: 0.6426 - val_loss: 0.9158 - val_accuracy: 0.6037\n",
      "Epoch 35/100\n",
      "1025/1025 [==============================] - 584s 570ms/step - loss: 0.8237 - accuracy: 0.6451 - val_loss: 0.9130 - val_accuracy: 0.6035\n",
      "Epoch 36/100\n",
      "1025/1025 [==============================] - 575s 561ms/step - loss: 0.8209 - accuracy: 0.6461 - val_loss: 0.9162 - val_accuracy: 0.6020\n",
      "Epoch 37/100\n",
      "1025/1025 [==============================] - 581s 567ms/step - loss: 0.8177 - accuracy: 0.6464 - val_loss: 0.9175 - val_accuracy: 0.6026\n",
      "Epoch 38/100\n",
      "1025/1025 [==============================] - 587s 573ms/step - loss: 0.8145 - accuracy: 0.6481 - val_loss: 0.9196 - val_accuracy: 0.6032\n"
     ]
    }
   ],
   "source": [
    "# history_BLSTM = BLSTM_model.fit(X_train, Y_train, validation_data=(X_test, Y_test),\n",
    "#                                batch_size=128, epochs=num_epochs, callbacks=[early_stopping])"
   ]
  },
  {
   "attachments": {},
   "cell_type": "markdown",
   "metadata": {},
   "source": [
    "The model stops after 38 epochs, at which point its accuracy is no longer improving."
   ]
  },
  {
   "cell_type": "code",
   "execution_count": 55,
   "metadata": {},
   "outputs": [
    {
     "data": {
      "text/plain": [
       "<tensorflow.python.checkpoint.checkpoint.CheckpointLoadStatus at 0x1f584f11150>"
      ]
     },
     "execution_count": 55,
     "metadata": {},
     "output_type": "execute_result"
    }
   ],
   "source": [
    "BLSTM_model.load_weights(\"./Modelfit/BLSTM\")"
   ]
  },
  {
   "cell_type": "code",
   "execution_count": 43,
   "metadata": {},
   "outputs": [
    {
     "name": "stdout",
     "output_type": "stream",
     "text": [
      "1025/1025 [==============================] - 56s 49ms/step - loss: 0.9058 - accuracy: 0.6048\n"
     ]
    }
   ],
   "source": [
    "_,accuracyBLSTM= BLSTM_model.evaluate(X_test,Y_test)"
   ]
  },
  {
   "attachments": {},
   "cell_type": "markdown",
   "metadata": {},
   "source": [
    "The accuracy on the test data set of the BLSTM model is slightly better than that of the normal LSTM model, which is again expected sincee the BLSTM model can capture both 'future' and 'past' context, thus allowing for better understanding of the context."
   ]
  },
  {
   "attachments": {},
   "cell_type": "markdown",
   "metadata": {},
   "source": [
    "#### Confusion matrix"
   ]
  },
  {
   "attachments": {},
   "cell_type": "markdown",
   "metadata": {},
   "source": [
    "A confusion matrix is plotted to see how the model performs, overall."
   ]
  },
  {
   "cell_type": "code",
   "execution_count": 26,
   "metadata": {},
   "outputs": [
    {
     "name": "stdout",
     "output_type": "stream",
     "text": [
      "4100/4100 [==============================] - 285s 67ms/step\n"
     ]
    }
   ],
   "source": [
    "\n",
    "# Get the predicted labels\n",
    "Y_pred_BLSTM = np.argmax(BLSTM_model.predict(X_train), axis=1)\n",
    "\n",
    "# Create the confusion matrix\n",
    "conf_matrix_BLSTM = confusion_matrix(Y_train, Y_pred_BLSTM)"
   ]
  },
  {
   "cell_type": "code",
   "execution_count": 28,
   "metadata": {},
   "outputs": [
    {
     "data": {
      "image/png": "[encoded data removed]",
      "text/plain": [
       "<Figure size 800x600 with 2 Axes>"
      ]
     },
     "metadata": {},
     "output_type": "display_data"
    }
   ],
   "source": [
    "# Plot the confusion matrix\n",
    "plt.figure(figsize=(8, 6))\n",
    "plt.imshow(conf_matrix_BLSTM, cmap=plt.cm.Blues)\n",
    "plt.title('Confusion Matrix for BLSTM', fontsize=15)\n",
    "plt.xlabel('Predicted Labels', fontsize=15)\n",
    "plt.ylabel('True Labels', fontsize=15)\n",
    "# Replace x-axis and y-axis ticks\n",
    "ticks = np.arange(0, num_classes)\n",
    "labels = [str(i) for i in range(1, num_classes+1)]\n",
    "plt.xticks(ticks, labels)\n",
    "plt.yticks(ticks, labels)\n",
    "\n",
    "plt.colorbar()\n",
    "for i in range(num_classes):\n",
    "    for j in range(num_classes):\n",
    "        try:\n",
    "            plt.text(j, i, conf_matrix_BLSTM[i, j], ha='center', va='center', color='orange')\n",
    "        except IndexError:\n",
    "            pass\n",
    "plt.show()\n"
   ]
  },
  {
   "attachments": {},
   "cell_type": "markdown",
   "metadata": {},
   "source": [
    "It can be seen that the model does realtively well capturing all 5 classes, especially in rating 1 and rating 5. It is also curious to notice the specific pattern of surrrounding classes: the nearby classes, e.g. 1 and 2, are harder to distinguish than the classes further apart, e.g. 1 and 5."
   ]
  },
  {
   "attachments": {},
   "cell_type": "markdown",
   "metadata": {},
   "source": [
    "### 6. GRU"
   ]
  },
  {
   "attachments": {},
   "cell_type": "markdown",
   "metadata": {},
   "source": [
    "The Gated Recurrent Unit (GRU) is another model which tries to solve the vanishing gradient problem of simple RNN models. These models can also be considered an extention to the LSTM model. The GRU uses the 'update gate', 'reset gate' units, which decide the information that is passed to the output. This model can keep information for a long period, without washing it through time <a href=\"#ref\">(Simeon Kostadinov 2017)</a>. \n",
    "\n",
    "Advantages:\n",
    "- Simplified architecture compared to LSTM, leading to faster training and lower memory requirements.\n",
    "- Effective in capturing short-term dependencies in sequential data.\n",
    "- Handles variable-length input sequences.\n",
    "\n",
    "Disadvantages:\n",
    "- May not perform as well as LSTM in tasks requiring modeling of long-term dependencies.\n",
    "- Limited capacity to capture complex sequential patterns.\n",
    "- May still suffer from gradient vanishing and exploding problems."
   ]
  },
  {
   "attachments": {},
   "cell_type": "markdown",
   "metadata": {},
   "source": [
    "The GRU is set up as a sequential model, with the vectorization layer defined above. Other layers include an embedding, a GRU, a Dense and a 'softmax' layer. "
   ]
  },
  {
   "cell_type": "code",
   "execution_count": 80,
   "metadata": {},
   "outputs": [],
   "source": [
    "GRU_model = tf.keras.Sequential([\n",
    "    vectorize_layer,\n",
    "    layers.Embedding(input_dim=len(vectorize_layer.get_vocabulary()), output_dim=embedding_dim,\n",
    "                     embeddings_initializer='uniform', mask_zero=True),\n",
    "    layers.GRU(128),\n",
    "    layers.Dense(128, activation='relu'),\n",
    "    layers.Dense(num_classes, activation='softmax')\n",
    "], name=\"GRU_model\")\n"
   ]
  },
  {
   "attachments": {},
   "cell_type": "markdown",
   "metadata": {},
   "source": [
    "The model is compiled as usual."
   ]
  },
  {
   "cell_type": "code",
   "execution_count": 81,
   "metadata": {},
   "outputs": [],
   "source": [
    "GRU_model.compile(optimizer=tf.keras.optimizers.legacy.Adam(learning_rate=1e-4),\n",
    "                    loss=losses.SparseCategoricalCrossentropy(from_logits=False),\n",
    "                    metrics=['accuracy'])"
   ]
  },
  {
   "cell_type": "code",
   "execution_count": null,
   "metadata": {},
   "outputs": [],
   "source": [
    "#history_gru = GRU_model.fit(X_train, Y_train, validation_data=(X_test, Y_test),\n",
    "                               #batch_size=128, epochs=num_epochs, callbacks=[early_stopping])"
   ]
  },
  {
   "cell_type": "code",
   "execution_count": 82,
   "metadata": {},
   "outputs": [
    {
     "data": {
      "text/plain": [
       "<tensorflow.python.checkpoint.checkpoint.CheckpointLoadStatus at 0x1f58c072650>"
      ]
     },
     "execution_count": 82,
     "metadata": {},
     "output_type": "execute_result"
    }
   ],
   "source": [
    "GRU_model.load_weights(\"./GRU\")"
   ]
  },
  {
   "cell_type": "code",
   "execution_count": 83,
   "metadata": {},
   "outputs": [
    {
     "name": "stdout",
     "output_type": "stream",
     "text": [
      "1025/1025 [==============================] - 57s 52ms/step - loss: 0.9010 - accuracy: 0.6102\n"
     ]
    }
   ],
   "source": [
    "_,accuracyGRU=GRU_model.evaluate(X_test,Y_test)"
   ]
  },
  {
   "attachments": {},
   "cell_type": "markdown",
   "metadata": {},
   "source": [
    "The accuracy of the GRU (0.6102) is better than all previous models. Through an optimised architecture, a GRU model has less vanishing gradients, thus the available information is used more efficiently. Another advantage of this model is the lower risk of overfitting."
   ]
  },
  {
   "attachments": {},
   "cell_type": "markdown",
   "metadata": {},
   "source": [
    "### 6.1 Confusion matrix"
   ]
  },
  {
   "attachments": {},
   "cell_type": "markdown",
   "metadata": {},
   "source": [
    "A confusion matrix will be plotted to analyse the models performance."
   ]
  },
  {
   "cell_type": "code",
   "execution_count": 87,
   "metadata": {},
   "outputs": [
    {
     "name": "stdout",
     "output_type": "stream",
     "text": [
      "4100/4100 [==============================] - 179s 43ms/step\n"
     ]
    }
   ],
   "source": [
    "\n",
    "# Get the predicted labels\n",
    "Y_pred_GRU = np.argmax(GRU_model.predict(X_train), axis=1)\n",
    "\n",
    "# Create the confusion matrix\n",
    "conf_matrix_GRU = confusion_matrix(Y_train, Y_pred_GRU)"
   ]
  },
  {
   "cell_type": "code",
   "execution_count": 88,
   "metadata": {},
   "outputs": [
    {
     "data": {
      "image/png": "[encoded data removed]",
      "text/plain": [
       "<Figure size 800x600 with 2 Axes>"
      ]
     },
     "metadata": {},
     "output_type": "display_data"
    }
   ],
   "source": [
    "# Plot the confusion matrix\n",
    "plt.figure(figsize=(8, 6))\n",
    "plt.imshow(conf_matrix_GRU, cmap=plt.cm.Blues)\n",
    "plt.title('Confusion Matrix for GRU', fontsize=15)\n",
    "plt.xlabel('Predicted Labels', fontsize=15)\n",
    "plt.ylabel('True Labels', fontsize=15)\n",
    "# Replace x-axis and y-axis ticks\n",
    "ticks = np.arange(0, num_classes)\n",
    "labels = [str(i) for i in range(1, num_classes+1)]\n",
    "plt.xticks(ticks, labels)\n",
    "plt.yticks(ticks, labels)\n",
    "\n",
    "plt.colorbar()\n",
    "for i in range(num_classes):\n",
    "    for j in range(num_classes):\n",
    "        try:\n",
    "            plt.text(j, i, conf_matrix_GRU[i, j], ha='center', va='center', color='orange')\n",
    "        except IndexError:\n",
    "            pass\n",
    "plt.show()\n"
   ]
  },
  {
   "attachments": {},
   "cell_type": "markdown",
   "metadata": {},
   "source": [
    "As with the BLSTM, it can be seen that the model does a good job at classifying all 5 classes, especially the first and the last class. Again, the same surrounding pattern (around the main diagonal) is observed here."
   ]
  },
  {
   "attachments": {},
   "cell_type": "markdown",
   "metadata": {},
   "source": [
    "### 6.2 Accuracy plot"
   ]
  },
  {
   "attachments": {},
   "cell_type": "markdown",
   "metadata": {},
   "source": [
    "Training and test accuracy is also plotted to depict the training and test history."
   ]
  },
  {
   "cell_type": "code",
   "execution_count": 91,
   "metadata": {},
   "outputs": [],
   "source": [
    "with open('history_gru.pkl', 'rb') as file:\n",
    "    history_gru_dict = pickle.load(file)"
   ]
  },
  {
   "cell_type": "code",
   "execution_count": 100,
   "metadata": {},
   "outputs": [
    {
     "data": {
      "image/png": "[encoded data removed]",
      "text/plain": [
       "<Figure size 640x480 with 1 Axes>"
      ]
     },
     "metadata": {},
     "output_type": "display_data"
    }
   ],
   "source": [
    "accuracy_train_GRU = history_gru['accuracy']  # ['accuracy', 'loss', 'val_accuracy', 'val_loss']\n",
    "accuracy_val_GRU = history_gru['val_accuracy']\n",
    "epochs = range(0,40)\n",
    "plt.plot(epochs, accuracy_train_GRU, 'g', label='Training Accuracy')\n",
    "plt.plot(epochs, accuracy_val_GRU, 'b', label='Validation Accuracy')\n",
    "plt.title('Training and Validation Accuracy GRU')\n",
    "plt.xlabel('Epochs')\n",
    "plt.ylabel('Accuracy')\n",
    "plt.legend()\n",
    "plt.show()"
   ]
  },
  {
   "attachments": {},
   "cell_type": "markdown",
   "metadata": {},
   "source": [
    "It can be seen that the training accuracy increases at a faster rate than validation accuracy. This is what we would expect."
   ]
  },
  {
   "attachments": {},
   "cell_type": "markdown",
   "metadata": {},
   "source": [
    "### 6.3 Loss plot"
   ]
  },
  {
   "cell_type": "code",
   "execution_count": null,
   "metadata": {},
   "outputs": [],
   "source": [
    "with open('history_gru.pkl', 'rb') as file:\n",
    "    history_gru_dict = pickle.load(file)"
   ]
  },
  {
   "cell_type": "code",
   "execution_count": null,
   "metadata": {},
   "outputs": [],
   "source": [
    "history_gru = {}\n",
    "\n",
    "# Assign the loaded values to the dictionary\n",
    "history_gru['loss'] = history_gru_dict['loss']\n",
    "history_gru['accuracy'] = history_gru_dict['accuracy']\n",
    "history_gru['val_loss'] = history_gru_dict['val_loss']\n",
    "history_gru['val_accuracy'] = history_gru_dict['val_accuracy']"
   ]
  },
  {
   "cell_type": "code",
   "execution_count": 101,
   "metadata": {},
   "outputs": [
    {
     "data": {
      "image/png": "[encoded data removed]",
      "text/plain": [
       "<Figure size 640x480 with 1 Axes>"
      ]
     },
     "metadata": {},
     "output_type": "display_data"
    }
   ],
   "source": [
    "loss_train_GRU = history_gru['loss']  # ['accuracy', 'loss', 'val_accuracy', 'val_loss']\n",
    "loss_val_GRU = history_gru['val_loss'] \n",
    "epochs = range(0,40)\n",
    "plt.plot(epochs, loss_train_GRU, 'g', label='Training loss')\n",
    "plt.plot(epochs, loss_val_GRU, 'b', label='Validation loss')\n",
    "plt.title('Training and Validation Loss GRU')\n",
    "plt.xlabel('Epochs')\n",
    "plt.ylabel('Loss')\n",
    "plt.legend()\n",
    "plt.show()"
   ]
  },
  {
   "attachments": {},
   "cell_type": "markdown",
   "metadata": {},
   "source": [
    "The loss functions represent the opposite of the accuracy plots. The conclusions are the same."
   ]
  },
  {
   "attachments": {},
   "cell_type": "markdown",
   "metadata": {},
   "source": [
    "### 7. Model selection"
   ]
  },
  {
   "attachments": {},
   "cell_type": "markdown",
   "metadata": {},
   "source": [
    "Test accuracy for all models are presented below. The best models turned out to be the LSTM-related models. "
   ]
  },
  {
   "cell_type": "code",
   "execution_count": 3,
   "metadata": {},
   "outputs": [
    {
     "name": "stdout",
     "output_type": "stream",
     "text": [
      "Accuracy of KNN on test set: 0.4683030949839915\n"
     ]
    }
   ],
   "source": [
    "print(\"Accuracy of KNN on test set: 0.4683030949839915\" )\n"
   ]
  },
  {
   "cell_type": "code",
   "execution_count": 44,
   "metadata": {},
   "outputs": [
    {
     "name": "stdout",
     "output_type": "stream",
     "text": [
      "Accuracy of Logistic Regression on test set: 0.5755450525994816\n",
      "Accuracy of MLP model on test set:  0.5880164504051208\n",
      "Accuracy of RNN on test set:  0.5804543495178223\n",
      "Accuracy of LSTM on test set:  0.6027138233184814\n",
      "Accuracy of BLSTM on test set:  0.604787290096283\n"
     ]
    }
   ],
   "source": [
    "\n",
    "print(\"Accuracy of Logistic Regression on test set: 0.5755450525994816\" )\n",
    "print(\"Accuracy of MLP model on test set: \", accuracy)\n",
    "print(\"Accuracy of RNN on test set: \", accuracyRNN)\n",
    "print(\"Accuracy of LSTM on test set: \", accuracyLSTM)\n",
    "print(\"Accuracy of BLSTM on test set: \", accuracyBLSTM)\n"
   ]
  },
  {
   "cell_type": "code",
   "execution_count": 102,
   "metadata": {},
   "outputs": [
    {
     "name": "stdout",
     "output_type": "stream",
     "text": [
      "Accuracy of GRU on test set:  0.6101844906806946\n"
     ]
    }
   ],
   "source": [
    "print(\"Accuracy of GRU on test set: \", accuracyGRU)\n"
   ]
  },
  {
   "cell_type": "code",
   "execution_count": 24,
   "metadata": {},
   "outputs": [
    {
     "name": "stdout",
     "output_type": "stream",
     "text": [
      "Accuracy of Transformer on test set: 0.4272\n"
     ]
    }
   ],
   "source": [
    "print(\"Accuracy of Transformer on test set: 0.4272\" )\n"
   ]
  },
  {
   "attachments": {},
   "cell_type": "markdown",
   "metadata": {},
   "source": [
    "Here, we select the model which yields the best accuracy which is GRU. However, we also ackowledge some limitations: \n",
    "\n",
    "- Hyperparameter tuning plays a crucial role in optimizing the performance of machine learning models. However, if hyperparameters are not tuned properly for RNN, LSTM, BiLSTM, and GRU models, it can lead to suboptimal performance. These models have various hyperparameters such as learning rate, number of layers, hidden units, etc., that need to be carefully tuned to achieve the best results. Failing to do so may limit the performance of these models.\n",
    "\n",
    "- The Transformer architecture has demonstrated excellent performance in various natural language processing tasks, especially for large-scale datasets. In optimal conditions, where hyperparameters are well-tuned and the model is trained on a sufficient amount of data, and with powerful computational machines the Transformer model can outperform traditional recurrent-based models like RNN, LSTM, BiLSTM, and GRU. However, under the limited computational- and time resources, we believe the Transformer did not get the chance to show its full potential.\n",
    "\n",
    "- Choosing the best model based only on accuracy and confusion matrix: while accuracy and confusion matrix provide valuable insights into model performance, they do not guarantee that the model will generalize well to unseen data. "
   ]
  },
  {
   "attachments": {},
   "cell_type": "markdown",
   "metadata": {},
   "source": [
    "For the purpose of this project, we do not aim to achieve the highest accuracy. Instead, our goal is to explore and apply a variety of preprocessing methods, embedding methods, and sequential learning models to gain a better understanding of the content. By doing so, we aim to analyze and compare the performance of these different techniques and their impact on the task at hand."
   ]
  },
  {
   "attachments": {},
   "cell_type": "markdown",
   "metadata": {},
   "source": [
    "<h2 id=\"ref\">References</h2>"
   ]
  },
  {
   "attachments": {},
   "cell_type": "markdown",
   "metadata": {},
   "source": [
    "1. Medium 2014, *Text Messages Classification using LSTM, BiLSTM and GRU*, Towards Data Science, viewed 6 May 2023. https://towardsdatascience.com/pipelines-custom-transformers-in-scikit-learn-the-step-by-step-guide-with-python-code-4a7d9b068156\n",
    "\n",
    "2. Jason Brownlee 2022, *When to Use MLP, CNN and RNN Neural Networks*, Machine Learning Mastery, viewed 17 May 2023. https://machinelearningmastery.com/when-to-use-mlp-cnn-and-rnn-neural-networks/\n",
    "\n",
    "3. Jurafsky, D., James H. M. (2023). Speech and Language Processing (3rd ed. draft), available <a href=\"https://web.stanford.edu/\n",
    "\n",
    "4. Simeon Kostadinov (2017). *Understanding GRU Networks*, Towards Data Science, viewed 17 May 2023. https://towardsdatascience.com/understanding-gru-networks-2ef37df6c9be"
   ]
  }
 ],
 "metadata": {
  "kernelspec": {
   "display_name": "Python 3",
   "language": "python",
   "name": "python3"
  },
  "language_info": {
   "codemirror_mode": {
    "name": "ipython",
    "version": 3
   },
   "file_extension": ".py",
   "mimetype": "text/x-python",
   "name": "python",
   "nbconvert_exporter": "python",
   "pygments_lexer": "ipython3",
   "version": "3.9.6"
  },
  "orig_nbformat": 4,
  "vscode": {
   "interpreter": {
    "hash": "31f2aee4e71d21fbe5cf8b01ff0e069b9275f58929596ceb00d14d90e3e16cd6"
   }
  }
 },
 "nbformat": 4,
 "nbformat_minor": 2
}
